{
  "nbformat": 4,
  "nbformat_minor": 0,
  "metadata": {
    "colab": {
      "provenance": []
    },
    "kernelspec": {
      "name": "python3",
      "display_name": "Python 3"
    },
    "language_info": {
      "name": "python"
    }
  },
  "cells": [
    {
      "cell_type": "markdown",
      "source": [
        "# Open-world Experiments - Multi-Class Classification with k-NN\n",
        "- Classify 95 monitored website traces with unique labels against additional unmonitored websites.\n",
        "\n",
        "- Monitored website instances labed with {0, 1, 2, ..., 94} and the unmonitored website instances with the label '-1'."
      ],
      "metadata": {
        "id": "jUHrcEu80UsY"
      }
    },
    {
      "cell_type": "code",
      "execution_count": 194,
      "metadata": {
        "colab": {
          "base_uri": "https://localhost:8080/"
        },
        "id": "rC573BsW1Wsa",
        "outputId": "520393de-65a0-4de4-8159-d1e617248d7f"
      },
      "outputs": [
        {
          "output_type": "stream",
          "name": "stdout",
          "text": [
            "Drive already mounted at /content/drive; to attempt to forcibly remount, call drive.mount(\"/content/drive\", force_remount=True).\n"
          ]
        }
      ],
      "source": [
        "from google.colab import drive\n",
        "import pandas as pd\n",
        "\n",
        "drive.mount('/content/drive')"
      ]
    },
    {
      "cell_type": "markdown",
      "source": [
        "Read CSV file"
      ],
      "metadata": {
        "id": "I8jm1UyBzhve"
      }
    },
    {
      "cell_type": "code",
      "source": [
        "df_unmon = pd.read_csv(\"/content/drive/MyDrive/Machine Learning/팀 과제/unmon2.csv\", header=None)"
      ],
      "metadata": {
        "id": "L6M1Zu6i1fWN"
      },
      "execution_count": 195,
      "outputs": []
    },
    {
      "cell_type": "code",
      "source": [
        "# transpose data\n",
        "df_unmon = df_unmon.transpose()\n",
        "df_unmon.rename(columns=df_unmon.iloc[0],inplace=True)\n",
        "df_unmon = df_unmon.drop(df_unmon.index[0])\n",
        "df_unmon"
      ],
      "metadata": {
        "id": "qsGLICI-2JHJ",
        "colab": {
          "base_uri": "https://localhost:8080/",
          "height": 443
        },
        "outputId": "0942b288-ec21-494b-dbde-16df4422a7f4"
      },
      "execution_count": 196,
      "outputs": [
        {
          "output_type": "execute_result",
          "data": {
            "text/plain": [
              "      total_pkt_per_user total_outgoing_pkt_per_user  \\\n",
              "1                 1421.0                       121.0   \n",
              "2                  518.0                        80.0   \n",
              "3                 1358.0                       118.0   \n",
              "4                 1446.0                       122.0   \n",
              "5                 1406.0                       115.0   \n",
              "...                  ...                         ...   \n",
              "28996             4593.0                       413.0   \n",
              "28997             5110.0                       447.0   \n",
              "28998              361.0                        59.0   \n",
              "28999              509.0                        96.0   \n",
              "29000             9990.0                       322.0   \n",
              "\n",
              "      total_incoming_pkt_per_user outgoing_pkt_frac_per_user  \\\n",
              "1                          1300.0                     0.0852   \n",
              "2                           438.0                     0.1544   \n",
              "3                          1240.0                     0.0869   \n",
              "4                          1324.0                     0.0844   \n",
              "5                          1291.0                     0.0818   \n",
              "...                           ...                        ...   \n",
              "28996                      4180.0                     0.0899   \n",
              "28997                      4663.0                     0.0875   \n",
              "28998                       302.0                     0.1634   \n",
              "28999                       413.0                     0.1886   \n",
              "29000                      9668.0                     0.0322   \n",
              "\n",
              "      incoming_pkt_frac_per_user outgoing30_per_user incoming30_per_user  \\\n",
              "1                         0.9148                21.0                 9.0   \n",
              "2                         0.8456                22.0                 8.0   \n",
              "3                         0.9131                23.0                 7.0   \n",
              "4                         0.9156                21.0                 9.0   \n",
              "5                         0.9182                22.0                 8.0   \n",
              "...                          ...                 ...                 ...   \n",
              "28996                     0.9101                20.0                10.0   \n",
              "28997                     0.9125                19.0                11.0   \n",
              "28998                     0.8366                19.0                11.0   \n",
              "28999                     0.8114                21.0                 9.0   \n",
              "29000                     0.9678                21.0                 9.0   \n",
              "\n",
              "      avg_total_burst_per_user std_total_burst_per_user  \\\n",
              "1                       9.1548                  14.3739   \n",
              "2                       5.5484                    9.492   \n",
              "3                       8.9801                  13.9082   \n",
              "4                       9.0881                  14.3704   \n",
              "5                        8.949                  13.5936   \n",
              "...                        ...                      ...   \n",
              "28996                    8.998                  13.7488   \n",
              "28997                  11.3884                  16.4356   \n",
              "28998                   6.4364                   9.7603   \n",
              "28999                   4.5766                   7.6554   \n",
              "29000                   16.689                  21.6696   \n",
              "\n",
              "      max_total_burst_per_user  ... avg_sum_intervals_continuous  \\\n",
              "1                         66.0  ...                       0.0831   \n",
              "2                         50.0  ...                       0.1254   \n",
              "3                         50.0  ...                       0.0934   \n",
              "4                         70.0  ...                       0.1086   \n",
              "5                         60.0  ...                       0.0917   \n",
              "...                        ...  ...                          ...   \n",
              "28996                     69.0  ...                       0.0775   \n",
              "28997                     87.0  ...                       0.0862   \n",
              "28998                     41.0  ...                       0.5822   \n",
              "28999                     42.0  ...                       0.1221   \n",
              "29000                     90.0  ...                       0.0298   \n",
              "\n",
              "      std_sum_intervals_continuous max_sum_intervals_continuous  \\\n",
              "1                           0.1328                         0.92   \n",
              "2                           0.4038                         3.59   \n",
              "3                           0.2154                         1.77   \n",
              "4                           0.1494                         0.58   \n",
              "5                           0.1259                         0.49   \n",
              "...                            ...                          ...   \n",
              "28996                       0.5766                        11.57   \n",
              "28997                       0.6327                        12.92   \n",
              "28998                       3.2194                         25.0   \n",
              "28999                       0.1938                         1.53   \n",
              "29000                       0.1644                          2.5   \n",
              "\n",
              "      avg_outgoing_pkts_time_interval std_outgoing_pkts_time_interval  \\\n",
              "1                              0.0897                           0.149   \n",
              "2                              0.0805                           0.107   \n",
              "3                              0.0732                          0.0977   \n",
              "4                              0.0926                            0.14   \n",
              "5                              0.1091                          0.1428   \n",
              "...                               ...                             ...   \n",
              "28996                          0.0496                          0.1286   \n",
              "28997                          0.0588                          0.2211   \n",
              "28998                          0.2423                           0.671   \n",
              "28999                          0.0869                          0.0994   \n",
              "29000                           0.021                          0.0571   \n",
              "\n",
              "      max_outgoing_pkts_time_interval avg_incoming_pkts_time_interval  \\\n",
              "1                                0.92                          0.0766   \n",
              "2                                0.34                          0.1715   \n",
              "3                                0.45                          0.1139   \n",
              "4                                0.51                          0.1249   \n",
              "5                                0.49                          0.0743   \n",
              "...                               ...                             ...   \n",
              "28996                             1.6                          0.0496   \n",
              "28997                             2.9                          0.0588   \n",
              "28998                             3.3                          0.2423   \n",
              "28999                            0.33                          0.0869   \n",
              "29000                            0.49                           0.021   \n",
              "\n",
              "      std_incoming_pkts_time_interval max_incoming_pkts_time_interval  \\\n",
              "1                              0.1141                            0.58   \n",
              "2                              0.5606                            3.59   \n",
              "3                              0.2881                            1.77   \n",
              "4                              0.1568                            0.58   \n",
              "5                              0.1033                            0.37   \n",
              "...                               ...                             ...   \n",
              "28996                          0.1286                             1.6   \n",
              "28997                          0.2211                             2.9   \n",
              "28998                           0.671                             3.3   \n",
              "28999                          0.0994                            0.33   \n",
              "29000                          0.0571                            0.49   \n",
              "\n",
              "      flow_act_duration  \n",
              "1                 10.14  \n",
              "2                 10.16  \n",
              "3                 11.11  \n",
              "4                 13.36  \n",
              "5                 10.64  \n",
              "...                 ...  \n",
              "28996             32.09  \n",
              "28997             38.62  \n",
              "28998             34.93  \n",
              "28999             11.84  \n",
              "29000              9.62  \n",
              "\n",
              "[29000 rows x 36 columns]"
            ],
            "text/html": [
              "\n",
              "  <div id=\"df-934136b5-fc5f-41fc-995c-2dbbbd102c45\" class=\"colab-df-container\">\n",
              "    <div>\n",
              "<style scoped>\n",
              "    .dataframe tbody tr th:only-of-type {\n",
              "        vertical-align: middle;\n",
              "    }\n",
              "\n",
              "    .dataframe tbody tr th {\n",
              "        vertical-align: top;\n",
              "    }\n",
              "\n",
              "    .dataframe thead th {\n",
              "        text-align: right;\n",
              "    }\n",
              "</style>\n",
              "<table border=\"1\" class=\"dataframe\">\n",
              "  <thead>\n",
              "    <tr style=\"text-align: right;\">\n",
              "      <th></th>\n",
              "      <th>total_pkt_per_user</th>\n",
              "      <th>total_outgoing_pkt_per_user</th>\n",
              "      <th>total_incoming_pkt_per_user</th>\n",
              "      <th>outgoing_pkt_frac_per_user</th>\n",
              "      <th>incoming_pkt_frac_per_user</th>\n",
              "      <th>outgoing30_per_user</th>\n",
              "      <th>incoming30_per_user</th>\n",
              "      <th>avg_total_burst_per_user</th>\n",
              "      <th>std_total_burst_per_user</th>\n",
              "      <th>max_total_burst_per_user</th>\n",
              "      <th>...</th>\n",
              "      <th>avg_sum_intervals_continuous</th>\n",
              "      <th>std_sum_intervals_continuous</th>\n",
              "      <th>max_sum_intervals_continuous</th>\n",
              "      <th>avg_outgoing_pkts_time_interval</th>\n",
              "      <th>std_outgoing_pkts_time_interval</th>\n",
              "      <th>max_outgoing_pkts_time_interval</th>\n",
              "      <th>avg_incoming_pkts_time_interval</th>\n",
              "      <th>std_incoming_pkts_time_interval</th>\n",
              "      <th>max_incoming_pkts_time_interval</th>\n",
              "      <th>flow_act_duration</th>\n",
              "    </tr>\n",
              "  </thead>\n",
              "  <tbody>\n",
              "    <tr>\n",
              "      <th>1</th>\n",
              "      <td>1421.0</td>\n",
              "      <td>121.0</td>\n",
              "      <td>1300.0</td>\n",
              "      <td>0.0852</td>\n",
              "      <td>0.9148</td>\n",
              "      <td>21.0</td>\n",
              "      <td>9.0</td>\n",
              "      <td>9.1548</td>\n",
              "      <td>14.3739</td>\n",
              "      <td>66.0</td>\n",
              "      <td>...</td>\n",
              "      <td>0.0831</td>\n",
              "      <td>0.1328</td>\n",
              "      <td>0.92</td>\n",
              "      <td>0.0897</td>\n",
              "      <td>0.149</td>\n",
              "      <td>0.92</td>\n",
              "      <td>0.0766</td>\n",
              "      <td>0.1141</td>\n",
              "      <td>0.58</td>\n",
              "      <td>10.14</td>\n",
              "    </tr>\n",
              "    <tr>\n",
              "      <th>2</th>\n",
              "      <td>518.0</td>\n",
              "      <td>80.0</td>\n",
              "      <td>438.0</td>\n",
              "      <td>0.1544</td>\n",
              "      <td>0.8456</td>\n",
              "      <td>22.0</td>\n",
              "      <td>8.0</td>\n",
              "      <td>5.5484</td>\n",
              "      <td>9.492</td>\n",
              "      <td>50.0</td>\n",
              "      <td>...</td>\n",
              "      <td>0.1254</td>\n",
              "      <td>0.4038</td>\n",
              "      <td>3.59</td>\n",
              "      <td>0.0805</td>\n",
              "      <td>0.107</td>\n",
              "      <td>0.34</td>\n",
              "      <td>0.1715</td>\n",
              "      <td>0.5606</td>\n",
              "      <td>3.59</td>\n",
              "      <td>10.16</td>\n",
              "    </tr>\n",
              "    <tr>\n",
              "      <th>3</th>\n",
              "      <td>1358.0</td>\n",
              "      <td>118.0</td>\n",
              "      <td>1240.0</td>\n",
              "      <td>0.0869</td>\n",
              "      <td>0.9131</td>\n",
              "      <td>23.0</td>\n",
              "      <td>7.0</td>\n",
              "      <td>8.9801</td>\n",
              "      <td>13.9082</td>\n",
              "      <td>50.0</td>\n",
              "      <td>...</td>\n",
              "      <td>0.0934</td>\n",
              "      <td>0.2154</td>\n",
              "      <td>1.77</td>\n",
              "      <td>0.0732</td>\n",
              "      <td>0.0977</td>\n",
              "      <td>0.45</td>\n",
              "      <td>0.1139</td>\n",
              "      <td>0.2881</td>\n",
              "      <td>1.77</td>\n",
              "      <td>11.11</td>\n",
              "    </tr>\n",
              "    <tr>\n",
              "      <th>4</th>\n",
              "      <td>1446.0</td>\n",
              "      <td>122.0</td>\n",
              "      <td>1324.0</td>\n",
              "      <td>0.0844</td>\n",
              "      <td>0.9156</td>\n",
              "      <td>21.0</td>\n",
              "      <td>9.0</td>\n",
              "      <td>9.0881</td>\n",
              "      <td>14.3704</td>\n",
              "      <td>70.0</td>\n",
              "      <td>...</td>\n",
              "      <td>0.1086</td>\n",
              "      <td>0.1494</td>\n",
              "      <td>0.58</td>\n",
              "      <td>0.0926</td>\n",
              "      <td>0.14</td>\n",
              "      <td>0.51</td>\n",
              "      <td>0.1249</td>\n",
              "      <td>0.1568</td>\n",
              "      <td>0.58</td>\n",
              "      <td>13.36</td>\n",
              "    </tr>\n",
              "    <tr>\n",
              "      <th>5</th>\n",
              "      <td>1406.0</td>\n",
              "      <td>115.0</td>\n",
              "      <td>1291.0</td>\n",
              "      <td>0.0818</td>\n",
              "      <td>0.9182</td>\n",
              "      <td>22.0</td>\n",
              "      <td>8.0</td>\n",
              "      <td>8.949</td>\n",
              "      <td>13.5936</td>\n",
              "      <td>60.0</td>\n",
              "      <td>...</td>\n",
              "      <td>0.0917</td>\n",
              "      <td>0.1259</td>\n",
              "      <td>0.49</td>\n",
              "      <td>0.1091</td>\n",
              "      <td>0.1428</td>\n",
              "      <td>0.49</td>\n",
              "      <td>0.0743</td>\n",
              "      <td>0.1033</td>\n",
              "      <td>0.37</td>\n",
              "      <td>10.64</td>\n",
              "    </tr>\n",
              "    <tr>\n",
              "      <th>...</th>\n",
              "      <td>...</td>\n",
              "      <td>...</td>\n",
              "      <td>...</td>\n",
              "      <td>...</td>\n",
              "      <td>...</td>\n",
              "      <td>...</td>\n",
              "      <td>...</td>\n",
              "      <td>...</td>\n",
              "      <td>...</td>\n",
              "      <td>...</td>\n",
              "      <td>...</td>\n",
              "      <td>...</td>\n",
              "      <td>...</td>\n",
              "      <td>...</td>\n",
              "      <td>...</td>\n",
              "      <td>...</td>\n",
              "      <td>...</td>\n",
              "      <td>...</td>\n",
              "      <td>...</td>\n",
              "      <td>...</td>\n",
              "      <td>...</td>\n",
              "    </tr>\n",
              "    <tr>\n",
              "      <th>28996</th>\n",
              "      <td>4593.0</td>\n",
              "      <td>413.0</td>\n",
              "      <td>4180.0</td>\n",
              "      <td>0.0899</td>\n",
              "      <td>0.9101</td>\n",
              "      <td>20.0</td>\n",
              "      <td>10.0</td>\n",
              "      <td>8.998</td>\n",
              "      <td>13.7488</td>\n",
              "      <td>69.0</td>\n",
              "      <td>...</td>\n",
              "      <td>0.0775</td>\n",
              "      <td>0.5766</td>\n",
              "      <td>11.57</td>\n",
              "      <td>0.0496</td>\n",
              "      <td>0.1286</td>\n",
              "      <td>1.6</td>\n",
              "      <td>0.0496</td>\n",
              "      <td>0.1286</td>\n",
              "      <td>1.6</td>\n",
              "      <td>32.09</td>\n",
              "    </tr>\n",
              "    <tr>\n",
              "      <th>28997</th>\n",
              "      <td>5110.0</td>\n",
              "      <td>447.0</td>\n",
              "      <td>4663.0</td>\n",
              "      <td>0.0875</td>\n",
              "      <td>0.9125</td>\n",
              "      <td>19.0</td>\n",
              "      <td>11.0</td>\n",
              "      <td>11.3884</td>\n",
              "      <td>16.4356</td>\n",
              "      <td>87.0</td>\n",
              "      <td>...</td>\n",
              "      <td>0.0862</td>\n",
              "      <td>0.6327</td>\n",
              "      <td>12.92</td>\n",
              "      <td>0.0588</td>\n",
              "      <td>0.2211</td>\n",
              "      <td>2.9</td>\n",
              "      <td>0.0588</td>\n",
              "      <td>0.2211</td>\n",
              "      <td>2.9</td>\n",
              "      <td>38.62</td>\n",
              "    </tr>\n",
              "    <tr>\n",
              "      <th>28998</th>\n",
              "      <td>361.0</td>\n",
              "      <td>59.0</td>\n",
              "      <td>302.0</td>\n",
              "      <td>0.1634</td>\n",
              "      <td>0.8366</td>\n",
              "      <td>19.0</td>\n",
              "      <td>11.0</td>\n",
              "      <td>6.4364</td>\n",
              "      <td>9.7603</td>\n",
              "      <td>41.0</td>\n",
              "      <td>...</td>\n",
              "      <td>0.5822</td>\n",
              "      <td>3.2194</td>\n",
              "      <td>25.0</td>\n",
              "      <td>0.2423</td>\n",
              "      <td>0.671</td>\n",
              "      <td>3.3</td>\n",
              "      <td>0.2423</td>\n",
              "      <td>0.671</td>\n",
              "      <td>3.3</td>\n",
              "      <td>34.93</td>\n",
              "    </tr>\n",
              "    <tr>\n",
              "      <th>28999</th>\n",
              "      <td>509.0</td>\n",
              "      <td>96.0</td>\n",
              "      <td>413.0</td>\n",
              "      <td>0.1886</td>\n",
              "      <td>0.8114</td>\n",
              "      <td>21.0</td>\n",
              "      <td>9.0</td>\n",
              "      <td>4.5766</td>\n",
              "      <td>7.6554</td>\n",
              "      <td>42.0</td>\n",
              "      <td>...</td>\n",
              "      <td>0.1221</td>\n",
              "      <td>0.1938</td>\n",
              "      <td>1.53</td>\n",
              "      <td>0.0869</td>\n",
              "      <td>0.0994</td>\n",
              "      <td>0.33</td>\n",
              "      <td>0.0869</td>\n",
              "      <td>0.0994</td>\n",
              "      <td>0.33</td>\n",
              "      <td>11.84</td>\n",
              "    </tr>\n",
              "    <tr>\n",
              "      <th>29000</th>\n",
              "      <td>9990.0</td>\n",
              "      <td>322.0</td>\n",
              "      <td>9668.0</td>\n",
              "      <td>0.0322</td>\n",
              "      <td>0.9678</td>\n",
              "      <td>21.0</td>\n",
              "      <td>9.0</td>\n",
              "      <td>16.689</td>\n",
              "      <td>21.6696</td>\n",
              "      <td>90.0</td>\n",
              "      <td>...</td>\n",
              "      <td>0.0298</td>\n",
              "      <td>0.1644</td>\n",
              "      <td>2.5</td>\n",
              "      <td>0.021</td>\n",
              "      <td>0.0571</td>\n",
              "      <td>0.49</td>\n",
              "      <td>0.021</td>\n",
              "      <td>0.0571</td>\n",
              "      <td>0.49</td>\n",
              "      <td>9.62</td>\n",
              "    </tr>\n",
              "  </tbody>\n",
              "</table>\n",
              "<p>29000 rows × 36 columns</p>\n",
              "</div>\n",
              "    <div class=\"colab-df-buttons\">\n",
              "\n",
              "  <div class=\"colab-df-container\">\n",
              "    <button class=\"colab-df-convert\" onclick=\"convertToInteractive('df-934136b5-fc5f-41fc-995c-2dbbbd102c45')\"\n",
              "            title=\"Convert this dataframe to an interactive table.\"\n",
              "            style=\"display:none;\">\n",
              "\n",
              "  <svg xmlns=\"http://www.w3.org/2000/svg\" height=\"24px\" viewBox=\"0 -960 960 960\">\n",
              "    <path d=\"M120-120v-720h720v720H120Zm60-500h600v-160H180v160Zm220 220h160v-160H400v160Zm0 220h160v-160H400v160ZM180-400h160v-160H180v160Zm440 0h160v-160H620v160ZM180-180h160v-160H180v160Zm440 0h160v-160H620v160Z\"/>\n",
              "  </svg>\n",
              "    </button>\n",
              "\n",
              "  <style>\n",
              "    .colab-df-container {\n",
              "      display:flex;\n",
              "      gap: 12px;\n",
              "    }\n",
              "\n",
              "    .colab-df-convert {\n",
              "      background-color: #E8F0FE;\n",
              "      border: none;\n",
              "      border-radius: 50%;\n",
              "      cursor: pointer;\n",
              "      display: none;\n",
              "      fill: #1967D2;\n",
              "      height: 32px;\n",
              "      padding: 0 0 0 0;\n",
              "      width: 32px;\n",
              "    }\n",
              "\n",
              "    .colab-df-convert:hover {\n",
              "      background-color: #E2EBFA;\n",
              "      box-shadow: 0px 1px 2px rgba(60, 64, 67, 0.3), 0px 1px 3px 1px rgba(60, 64, 67, 0.15);\n",
              "      fill: #174EA6;\n",
              "    }\n",
              "\n",
              "    .colab-df-buttons div {\n",
              "      margin-bottom: 4px;\n",
              "    }\n",
              "\n",
              "    [theme=dark] .colab-df-convert {\n",
              "      background-color: #3B4455;\n",
              "      fill: #D2E3FC;\n",
              "    }\n",
              "\n",
              "    [theme=dark] .colab-df-convert:hover {\n",
              "      background-color: #434B5C;\n",
              "      box-shadow: 0px 1px 3px 1px rgba(0, 0, 0, 0.15);\n",
              "      filter: drop-shadow(0px 1px 2px rgba(0, 0, 0, 0.3));\n",
              "      fill: #FFFFFF;\n",
              "    }\n",
              "  </style>\n",
              "\n",
              "    <script>\n",
              "      const buttonEl =\n",
              "        document.querySelector('#df-934136b5-fc5f-41fc-995c-2dbbbd102c45 button.colab-df-convert');\n",
              "      buttonEl.style.display =\n",
              "        google.colab.kernel.accessAllowed ? 'block' : 'none';\n",
              "\n",
              "      async function convertToInteractive(key) {\n",
              "        const element = document.querySelector('#df-934136b5-fc5f-41fc-995c-2dbbbd102c45');\n",
              "        const dataTable =\n",
              "          await google.colab.kernel.invokeFunction('convertToInteractive',\n",
              "                                                    [key], {});\n",
              "        if (!dataTable) return;\n",
              "\n",
              "        const docLinkHtml = 'Like what you see? Visit the ' +\n",
              "          '<a target=\"_blank\" href=https://colab.research.google.com/notebooks/data_table.ipynb>data table notebook</a>'\n",
              "          + ' to learn more about interactive tables.';\n",
              "        element.innerHTML = '';\n",
              "        dataTable['output_type'] = 'display_data';\n",
              "        await google.colab.output.renderOutput(dataTable, element);\n",
              "        const docLink = document.createElement('div');\n",
              "        docLink.innerHTML = docLinkHtml;\n",
              "        element.appendChild(docLink);\n",
              "      }\n",
              "    </script>\n",
              "  </div>\n",
              "\n",
              "\n",
              "<div id=\"df-23216808-5479-4679-b7ab-0df4f647cb58\">\n",
              "  <button class=\"colab-df-quickchart\" onclick=\"quickchart('df-23216808-5479-4679-b7ab-0df4f647cb58')\"\n",
              "            title=\"Suggest charts\"\n",
              "            style=\"display:none;\">\n",
              "\n",
              "<svg xmlns=\"http://www.w3.org/2000/svg\" height=\"24px\"viewBox=\"0 0 24 24\"\n",
              "     width=\"24px\">\n",
              "    <g>\n",
              "        <path d=\"M19 3H5c-1.1 0-2 .9-2 2v14c0 1.1.9 2 2 2h14c1.1 0 2-.9 2-2V5c0-1.1-.9-2-2-2zM9 17H7v-7h2v7zm4 0h-2V7h2v10zm4 0h-2v-4h2v4z\"/>\n",
              "    </g>\n",
              "</svg>\n",
              "  </button>\n",
              "\n",
              "<style>\n",
              "  .colab-df-quickchart {\n",
              "      --bg-color: #E8F0FE;\n",
              "      --fill-color: #1967D2;\n",
              "      --hover-bg-color: #E2EBFA;\n",
              "      --hover-fill-color: #174EA6;\n",
              "      --disabled-fill-color: #AAA;\n",
              "      --disabled-bg-color: #DDD;\n",
              "  }\n",
              "\n",
              "  [theme=dark] .colab-df-quickchart {\n",
              "      --bg-color: #3B4455;\n",
              "      --fill-color: #D2E3FC;\n",
              "      --hover-bg-color: #434B5C;\n",
              "      --hover-fill-color: #FFFFFF;\n",
              "      --disabled-bg-color: #3B4455;\n",
              "      --disabled-fill-color: #666;\n",
              "  }\n",
              "\n",
              "  .colab-df-quickchart {\n",
              "    background-color: var(--bg-color);\n",
              "    border: none;\n",
              "    border-radius: 50%;\n",
              "    cursor: pointer;\n",
              "    display: none;\n",
              "    fill: var(--fill-color);\n",
              "    height: 32px;\n",
              "    padding: 0;\n",
              "    width: 32px;\n",
              "  }\n",
              "\n",
              "  .colab-df-quickchart:hover {\n",
              "    background-color: var(--hover-bg-color);\n",
              "    box-shadow: 0 1px 2px rgba(60, 64, 67, 0.3), 0 1px 3px 1px rgba(60, 64, 67, 0.15);\n",
              "    fill: var(--button-hover-fill-color);\n",
              "  }\n",
              "\n",
              "  .colab-df-quickchart-complete:disabled,\n",
              "  .colab-df-quickchart-complete:disabled:hover {\n",
              "    background-color: var(--disabled-bg-color);\n",
              "    fill: var(--disabled-fill-color);\n",
              "    box-shadow: none;\n",
              "  }\n",
              "\n",
              "  .colab-df-spinner {\n",
              "    border: 2px solid var(--fill-color);\n",
              "    border-color: transparent;\n",
              "    border-bottom-color: var(--fill-color);\n",
              "    animation:\n",
              "      spin 1s steps(1) infinite;\n",
              "  }\n",
              "\n",
              "  @keyframes spin {\n",
              "    0% {\n",
              "      border-color: transparent;\n",
              "      border-bottom-color: var(--fill-color);\n",
              "      border-left-color: var(--fill-color);\n",
              "    }\n",
              "    20% {\n",
              "      border-color: transparent;\n",
              "      border-left-color: var(--fill-color);\n",
              "      border-top-color: var(--fill-color);\n",
              "    }\n",
              "    30% {\n",
              "      border-color: transparent;\n",
              "      border-left-color: var(--fill-color);\n",
              "      border-top-color: var(--fill-color);\n",
              "      border-right-color: var(--fill-color);\n",
              "    }\n",
              "    40% {\n",
              "      border-color: transparent;\n",
              "      border-right-color: var(--fill-color);\n",
              "      border-top-color: var(--fill-color);\n",
              "    }\n",
              "    60% {\n",
              "      border-color: transparent;\n",
              "      border-right-color: var(--fill-color);\n",
              "    }\n",
              "    80% {\n",
              "      border-color: transparent;\n",
              "      border-right-color: var(--fill-color);\n",
              "      border-bottom-color: var(--fill-color);\n",
              "    }\n",
              "    90% {\n",
              "      border-color: transparent;\n",
              "      border-bottom-color: var(--fill-color);\n",
              "    }\n",
              "  }\n",
              "</style>\n",
              "\n",
              "  <script>\n",
              "    async function quickchart(key) {\n",
              "      const quickchartButtonEl =\n",
              "        document.querySelector('#' + key + ' button');\n",
              "      quickchartButtonEl.disabled = true;  // To prevent multiple clicks.\n",
              "      quickchartButtonEl.classList.add('colab-df-spinner');\n",
              "      try {\n",
              "        const charts = await google.colab.kernel.invokeFunction(\n",
              "            'suggestCharts', [key], {});\n",
              "      } catch (error) {\n",
              "        console.error('Error during call to suggestCharts:', error);\n",
              "      }\n",
              "      quickchartButtonEl.classList.remove('colab-df-spinner');\n",
              "      quickchartButtonEl.classList.add('colab-df-quickchart-complete');\n",
              "    }\n",
              "    (() => {\n",
              "      let quickchartButtonEl =\n",
              "        document.querySelector('#df-23216808-5479-4679-b7ab-0df4f647cb58 button');\n",
              "      quickchartButtonEl.style.display =\n",
              "        google.colab.kernel.accessAllowed ? 'block' : 'none';\n",
              "    })();\n",
              "  </script>\n",
              "</div>\n",
              "    </div>\n",
              "  </div>\n"
            ]
          },
          "metadata": {},
          "execution_count": 196
        }
      ]
    },
    {
      "cell_type": "markdown",
      "source": [
        "Check if there is any null value in data"
      ],
      "metadata": {
        "id": "iREInbpAd_AR"
      }
    },
    {
      "cell_type": "code",
      "source": [
        "print('\\nNull Values in data \\n{}'.format(df_unmon.isnull().sum()))\n",
        "print('\\nDuplicated values in data {}'.format(df_unmon.duplicated().sum()))"
      ],
      "metadata": {
        "colab": {
          "base_uri": "https://localhost:8080/"
        },
        "id": "OBffSM1M2MDB",
        "outputId": "059b83df-3cf2-4852-84bf-9307885aa3be"
      },
      "execution_count": 197,
      "outputs": [
        {
          "output_type": "stream",
          "name": "stdout",
          "text": [
            "\n",
            "Null Values in data \n",
            "total_pkt_per_user                 0\n",
            "total_outgoing_pkt_per_user        0\n",
            "total_incoming_pkt_per_user        0\n",
            "outgoing_pkt_frac_per_user         0\n",
            "incoming_pkt_frac_per_user         0\n",
            "outgoing30_per_user                0\n",
            "incoming30_per_user                0\n",
            "avg_total_burst_per_user           0\n",
            "std_total_burst_per_user           0\n",
            "max_total_burst_per_user           0\n",
            "avg_incoming_burst_per_user        0\n",
            "std_incoming_burst_per_user        0\n",
            "min_incoming_burst_per_user        0\n",
            "avg_outgoing_burst_per_user        0\n",
            "std_outgoing_burst_per_user        0\n",
            "max_outgoing_burst_per_user        0\n",
            "avg_cumulative                     0\n",
            "std_cumulative                     0\n",
            "min_cumulative                     0\n",
            "avg_interval                       0\n",
            "std_interval                       0\n",
            "max_interval                       0\n",
            "avg_pkts_in_fixed_time             0\n",
            "std_pkts_in_fixed_time             0\n",
            "min_pkts_in_fixed_time             0\n",
            "max_pkts_in_fixed_time             0\n",
            "avg_sum_intervals_continuous       0\n",
            "std_sum_intervals_continuous       0\n",
            "max_sum_intervals_continuous       0\n",
            "avg_outgoing_pkts_time_interval    0\n",
            "std_outgoing_pkts_time_interval    0\n",
            "max_outgoing_pkts_time_interval    0\n",
            "avg_incoming_pkts_time_interval    0\n",
            "std_incoming_pkts_time_interval    0\n",
            "max_incoming_pkts_time_interval    0\n",
            "flow_act_duration                  0\n",
            "dtype: int64\n",
            "\n",
            "Duplicated values in data 0\n"
          ]
        }
      ]
    },
    {
      "cell_type": "markdown",
      "source": [
        "Extract data X and label y"
      ],
      "metadata": {
        "id": "_R4uBDsI1miu"
      }
    },
    {
      "cell_type": "code",
      "source": [
        "import numpy as np\n",
        "\n",
        "# data X\n",
        "X = np.array(df_unmon.iloc[:, 1:])\n",
        "\n",
        "# label y\n",
        "y = np.repeat(np.arange(95), 200) # add 0 ~ 94, 200 times each\n",
        "y = np.append(y, np.full(10000, -1))  # add 10000 -1's\n",
        "\n",
        "print(X)\n",
        "print(y)"
      ],
      "metadata": {
        "colab": {
          "base_uri": "https://localhost:8080/"
        },
        "id": "AlwT9WpI25jt",
        "outputId": "b56bd9fb-738a-4bef-804e-ae7f4796e3c7"
      },
      "execution_count": 198,
      "outputs": [
        {
          "output_type": "stream",
          "name": "stdout",
          "text": [
            "[[121.0 1300.0 0.0852 ... 0.1141 0.58 10.14]\n",
            " [80.0 438.0 0.1544 ... 0.5606 3.59 10.16]\n",
            " [118.0 1240.0 0.0869 ... 0.2881 1.77 11.11]\n",
            " ...\n",
            " [59.0 302.0 0.1634 ... 0.671 3.3 34.93]\n",
            " [96.0 413.0 0.1886 ... 0.0994 0.33 11.84]\n",
            " [322.0 9668.0 0.0322 ... 0.0571 0.49 9.62]]\n",
            "[ 0  0  0 ... -1 -1 -1]\n"
          ]
        }
      ]
    },
    {
      "cell_type": "markdown",
      "source": [
        "# Extract feature importance by using decision tree classifier"
      ],
      "metadata": {
        "id": "EtQKR82S4sID"
      }
    },
    {
      "cell_type": "code",
      "source": [
        "from sklearn.tree import DecisionTreeClassifier\n",
        "\n",
        "# build decision tree\n",
        "model = DecisionTreeClassifier()\n",
        "model.fit(X, y)  # X: input data, y: label\n",
        "\n",
        "# Feature importance\n",
        "importance = model.feature_importances_\n",
        "\n",
        "# result\n",
        "for i, v in enumerate(importance):\n",
        "    print(f'Feature {i}: {v}')"
      ],
      "metadata": {
        "id": "u-YxuEJg38xc",
        "colab": {
          "base_uri": "https://localhost:8080/"
        },
        "outputId": "46dc2d8c-40e3-4f4e-a744-15f63fe1c29b"
      },
      "execution_count": 199,
      "outputs": [
        {
          "output_type": "stream",
          "name": "stdout",
          "text": [
            "Feature 0: 0.06756555429216231\n",
            "Feature 1: 0.03418770865809063\n",
            "Feature 2: 0.02836864994038042\n",
            "Feature 3: 0.023425964854539957\n",
            "Feature 4: 0.021684538043529024\n",
            "Feature 5: 0.02094669509707478\n",
            "Feature 6: 0.022600992368282946\n",
            "Feature 7: 0.015904110695088052\n",
            "Feature 8: 0.007174122529368999\n",
            "Feature 9: 0.029019666225986444\n",
            "Feature 10: 0.012474463465275781\n",
            "Feature 11: 0.009578784984096273\n",
            "Feature 12: 0.03000930403004525\n",
            "Feature 13: 0.03975006229185823\n",
            "Feature 14: 0.026226472569768285\n",
            "Feature 15: 0.04424617448507304\n",
            "Feature 16: 0.30439976796470825\n",
            "Feature 17: 0.029064166046314392\n",
            "Feature 18: 0.011213101440871944\n",
            "Feature 19: 0.02430842923798691\n",
            "Feature 20: 0.02740326579970846\n",
            "Feature 21: 0.020590518887581302\n",
            "Feature 22: 0.012106840864428385\n",
            "Feature 23: 0.0014802731804991422\n",
            "Feature 24: 0.009126614643803793\n",
            "Feature 25: 0.01597981646240557\n",
            "Feature 26: 0.01856784941086573\n",
            "Feature 27: 0.022798365029992617\n",
            "Feature 28: 0.007323199542732579\n",
            "Feature 29: 0.005353282863022292\n",
            "Feature 30: 0.009815315712992346\n",
            "Feature 31: 0.007899440018465294\n",
            "Feature 32: 0.005481987111424519\n",
            "Feature 33: 0.007307014321322391\n",
            "Feature 34: 0.02661748693025361\n"
          ]
        }
      ]
    },
    {
      "cell_type": "markdown",
      "source": [
        "Visualize feature importance"
      ],
      "metadata": {
        "id": "byHNXhQseZ5P"
      }
    },
    {
      "cell_type": "code",
      "source": [
        "import matplotlib.pyplot as plt\n",
        "import seaborn as sns\n",
        "\n",
        "feature_imp = pd.Series(importance, index=df_unmon.iloc[:, 1:].columns).sort_values(ascending=False)\n",
        "\n",
        "plt.figure(figsize=(10,6))\n",
        "sns.barplot(x=feature_imp, y=feature_imp.index)\n",
        "\n",
        "plt.xlabel('Feature Importance Score')\n",
        "plt.ylabel('Features')\n",
        "plt.title(\"Visualize feature importance\")\n",
        "plt.tight_layout()"
      ],
      "metadata": {
        "id": "8lNktQC04zz2",
        "colab": {
          "base_uri": "https://localhost:8080/",
          "height": 607
        },
        "outputId": "ae0c1919-9961-4b3c-c19c-4392992eb560"
      },
      "execution_count": 200,
      "outputs": [
        {
          "output_type": "display_data",
          "data": {
            "text/plain": [
              "<Figure size 1000x600 with 1 Axes>"
            ],
            "image/png": "[encoded data removed]"
          },
          "metadata": {}
        }
      ]
    },
    {
      "cell_type": "markdown",
      "source": [
        "# 1. Build and run k-NN model with all features"
      ],
      "metadata": {
        "id": "k_98wMOQedJ3"
      }
    },
    {
      "cell_type": "markdown",
      "source": [
        "## 1-1. Default k-NN with k=5"
      ],
      "metadata": {
        "id": "Eh7a5ncnefYc"
      }
    },
    {
      "cell_type": "code",
      "execution_count": 201,
      "metadata": {
        "id": "dqTRyfAoLF7l",
        "colab": {
          "base_uri": "https://localhost:8080/"
        },
        "outputId": "4ab9170e-4009-4470-e171-59fcc3881aaa"
      },
      "outputs": [
        {
          "output_type": "stream",
          "name": "stdout",
          "text": [
            "Accuracy: 0.718\n",
            "Time to elapse: 1.126\n"
          ]
        }
      ],
      "source": [
        "from sklearn.model_selection import train_test_split\n",
        "from sklearn.preprocessing import StandardScaler\n",
        "from sklearn.neighbors import KNeighborsClassifier\n",
        "from sklearn.model_selection import GridSearchCV\n",
        "from sklearn.metrics import accuracy_score\n",
        "import time\n",
        "import math\n",
        "\n",
        "# split dataset\n",
        "X_train, X_test, y_train, y_test = train_test_split(X, y, test_size=0.2, random_state=42)\n",
        "\n",
        "# Normalization\n",
        "scaler = StandardScaler()\n",
        "X_train = scaler.fit_transform(X_train)\n",
        "X_test = scaler.transform(X_test)\n",
        "\n",
        "# define k-NN with k=5\n",
        "model_knn = KNeighborsClassifier(n_neighbors= 5)\n",
        "model_knn.fit(X_train, y_train)\n",
        "\n",
        "# test k-NN\n",
        "start_time = time.time()\n",
        "pred = model_knn.predict(X_test)\n",
        "print('Accuracy: %0.3f' %accuracy_score(y_test, pred))\n",
        "print('Time to elapse: %0.3f' %(time.time() - start_time))"
      ]
    },
    {
      "cell_type": "markdown",
      "source": [
        "## 1-2. k-NN with GridSearch"
      ],
      "metadata": {
        "id": "D8lLPPTzesEy"
      }
    },
    {
      "cell_type": "code",
      "execution_count": 202,
      "metadata": {
        "id": "XcxTyaPRxOKH",
        "colab": {
          "base_uri": "https://localhost:8080/",
          "height": 117
        },
        "outputId": "b93a4f0e-29ba-4670-b19d-7ab442bb3b7e"
      },
      "outputs": [
        {
          "output_type": "execute_result",
          "data": {
            "text/plain": [
              "GridSearchCV(cv=5, estimator=KNeighborsClassifier(),\n",
              "             param_grid={'metric': ['euclidean', 'manhattan', 'minkowski'],\n",
              "                         'n_neighbors': [3, 5, 7]})"
            ],
            "text/html": [
              "<style>#sk-container-id-23 {color: black;background-color: white;}#sk-container-id-23 pre{padding: 0;}#sk-container-id-23 div.sk-toggleable {background-color: white;}#sk-container-id-23 label.sk-toggleable__label {cursor: pointer;display: block;width: 100%;margin-bottom: 0;padding: 0.3em;box-sizing: border-box;text-align: center;}#sk-container-id-23 label.sk-toggleable__label-arrow:before {content: \"▸\";float: left;margin-right: 0.25em;color: #696969;}#sk-container-id-23 label.sk-toggleable__label-arrow:hover:before {color: black;}#sk-container-id-23 div.sk-estimator:hover label.sk-toggleable__label-arrow:before {color: black;}#sk-container-id-23 div.sk-toggleable__content {max-height: 0;max-width: 0;overflow: hidden;text-align: left;background-color: #f0f8ff;}#sk-container-id-23 div.sk-toggleable__content pre {margin: 0.2em;color: black;border-radius: 0.25em;background-color: #f0f8ff;}#sk-container-id-23 input.sk-toggleable__control:checked~div.sk-toggleable__content {max-height: 200px;max-width: 100%;overflow: auto;}#sk-container-id-23 input.sk-toggleable__control:checked~label.sk-toggleable__label-arrow:before {content: \"▾\";}#sk-container-id-23 div.sk-estimator input.sk-toggleable__control:checked~label.sk-toggleable__label {background-color: #d4ebff;}#sk-container-id-23 div.sk-label input.sk-toggleable__control:checked~label.sk-toggleable__label {background-color: #d4ebff;}#sk-container-id-23 input.sk-hidden--visually {border: 0;clip: rect(1px 1px 1px 1px);clip: rect(1px, 1px, 1px, 1px);height: 1px;margin: -1px;overflow: hidden;padding: 0;position: absolute;width: 1px;}#sk-container-id-23 div.sk-estimator {font-family: monospace;background-color: #f0f8ff;border: 1px dotted black;border-radius: 0.25em;box-sizing: border-box;margin-bottom: 0.5em;}#sk-container-id-23 div.sk-estimator:hover {background-color: #d4ebff;}#sk-container-id-23 div.sk-parallel-item::after {content: \"\";width: 100%;border-bottom: 1px solid gray;flex-grow: 1;}#sk-container-id-23 div.sk-label:hover label.sk-toggleable__label {background-color: #d4ebff;}#sk-container-id-23 div.sk-serial::before {content: \"\";position: absolute;border-left: 1px solid gray;box-sizing: border-box;top: 0;bottom: 0;left: 50%;z-index: 0;}#sk-container-id-23 div.sk-serial {display: flex;flex-direction: column;align-items: center;background-color: white;padding-right: 0.2em;padding-left: 0.2em;position: relative;}#sk-container-id-23 div.sk-item {position: relative;z-index: 1;}#sk-container-id-23 div.sk-parallel {display: flex;align-items: stretch;justify-content: center;background-color: white;position: relative;}#sk-container-id-23 div.sk-item::before, #sk-container-id-23 div.sk-parallel-item::before {content: \"\";position: absolute;border-left: 1px solid gray;box-sizing: border-box;top: 0;bottom: 0;left: 50%;z-index: -1;}#sk-container-id-23 div.sk-parallel-item {display: flex;flex-direction: column;z-index: 1;position: relative;background-color: white;}#sk-container-id-23 div.sk-parallel-item:first-child::after {align-self: flex-end;width: 50%;}#sk-container-id-23 div.sk-parallel-item:last-child::after {align-self: flex-start;width: 50%;}#sk-container-id-23 div.sk-parallel-item:only-child::after {width: 0;}#sk-container-id-23 div.sk-dashed-wrapped {border: 1px dashed gray;margin: 0 0.4em 0.5em 0.4em;box-sizing: border-box;padding-bottom: 0.4em;background-color: white;}#sk-container-id-23 div.sk-label label {font-family: monospace;font-weight: bold;display: inline-block;line-height: 1.2em;}#sk-container-id-23 div.sk-label-container {text-align: center;}#sk-container-id-23 div.sk-container {/* jupyter's `normalize.less` sets `[hidden] { display: none; }` but bootstrap.min.css set `[hidden] { display: none !important; }` so we also need the `!important` here to be able to override the default hidden behavior on the sphinx rendered scikit-learn.org. See: https://github.com/scikit-learn/scikit-learn/issues/21755 */display: inline-block !important;position: relative;}#sk-container-id-23 div.sk-text-repr-fallback {display: none;}</style><div id=\"sk-container-id-23\" class=\"sk-top-container\"><div class=\"sk-text-repr-fallback\"><pre>GridSearchCV(cv=5, estimator=KNeighborsClassifier(),\n",
              "             param_grid={&#x27;metric&#x27;: [&#x27;euclidean&#x27;, &#x27;manhattan&#x27;, &#x27;minkowski&#x27;],\n",
              "                         &#x27;n_neighbors&#x27;: [3, 5, 7]})</pre><b>In a Jupyter environment, please rerun this cell to show the HTML representation or trust the notebook. <br />On GitHub, the HTML representation is unable to render, please try loading this page with nbviewer.org.</b></div><div class=\"sk-container\" hidden><div class=\"sk-item sk-dashed-wrapped\"><div class=\"sk-label-container\"><div class=\"sk-label sk-toggleable\"><input class=\"sk-toggleable__control sk-hidden--visually\" id=\"sk-estimator-id-77\" type=\"checkbox\" ><label for=\"sk-estimator-id-77\" class=\"sk-toggleable__label sk-toggleable__label-arrow\">GridSearchCV</label><div class=\"sk-toggleable__content\"><pre>GridSearchCV(cv=5, estimator=KNeighborsClassifier(),\n",
              "             param_grid={&#x27;metric&#x27;: [&#x27;euclidean&#x27;, &#x27;manhattan&#x27;, &#x27;minkowski&#x27;],\n",
              "                         &#x27;n_neighbors&#x27;: [3, 5, 7]})</pre></div></div></div><div class=\"sk-parallel\"><div class=\"sk-parallel-item\"><div class=\"sk-item\"><div class=\"sk-label-container\"><div class=\"sk-label sk-toggleable\"><input class=\"sk-toggleable__control sk-hidden--visually\" id=\"sk-estimator-id-78\" type=\"checkbox\" ><label for=\"sk-estimator-id-78\" class=\"sk-toggleable__label sk-toggleable__label-arrow\">estimator: KNeighborsClassifier</label><div class=\"sk-toggleable__content\"><pre>KNeighborsClassifier()</pre></div></div></div><div class=\"sk-serial\"><div class=\"sk-item\"><div class=\"sk-estimator sk-toggleable\"><input class=\"sk-toggleable__control sk-hidden--visually\" id=\"sk-estimator-id-79\" type=\"checkbox\" ><label for=\"sk-estimator-id-79\" class=\"sk-toggleable__label sk-toggleable__label-arrow\">KNeighborsClassifier</label><div class=\"sk-toggleable__content\"><pre>KNeighborsClassifier()</pre></div></div></div></div></div></div></div></div></div></div>"
            ]
          },
          "metadata": {},
          "execution_count": 202
        }
      ],
      "source": [
        "param_grid = {'n_neighbors': [3, 5, 7], 'metric' : ['euclidean', 'manhattan', 'minkowski']} # search space\n",
        "grid_search_knn = GridSearchCV(model_knn, param_grid, cv=5)  # 5-fold cross validation\n",
        "grid_search_knn.fit(X_train, y_train)"
      ]
    },
    {
      "cell_type": "code",
      "source": [
        "print('Best accuracy : %0.3f' %grid_search_knn.best_score_)\n",
        "print(\"Best parameters:\", grid_search_knn.best_params_)"
      ],
      "metadata": {
        "id": "VHLydeq7wA_u",
        "colab": {
          "base_uri": "https://localhost:8080/"
        },
        "outputId": "a0843d0a-9ea2-4518-afe3-2c6c21fe8953"
      },
      "execution_count": 203,
      "outputs": [
        {
          "output_type": "stream",
          "name": "stdout",
          "text": [
            "Best accuracy : 0.754\n",
            "Best parameters: {'metric': 'manhattan', 'n_neighbors': 5}\n"
          ]
        }
      ]
    },
    {
      "cell_type": "code",
      "source": [
        "print(\"testing accuracy: %0.3f\" %accuracy_score(y_test, grid_search_knn.best_estimator_.predict(X_test)))"
      ],
      "metadata": {
        "id": "kpGY9N-cwvTr",
        "colab": {
          "base_uri": "https://localhost:8080/"
        },
        "outputId": "20f59dd8-f89c-4660-be7d-6f64024aab3c"
      },
      "execution_count": 204,
      "outputs": [
        {
          "output_type": "stream",
          "name": "stdout",
          "text": [
            "testing accuracy: 0.763\n"
          ]
        }
      ]
    },
    {
      "cell_type": "markdown",
      "source": [
        "After k-NN with grid search, we found that k-NN model with manhattan metric and 5 neighbors is the best with the accuracy of 0.763"
      ],
      "metadata": {
        "id": "alAV7SXMevBt"
      }
    },
    {
      "cell_type": "markdown",
      "source": [
        "## 1-3. PCA + K-NN with GridSearch"
      ],
      "metadata": {
        "id": "PEbPHwAfe61p"
      }
    },
    {
      "cell_type": "code",
      "source": [
        "from sklearn.pipeline import Pipeline\n",
        "from sklearn.decomposition import PCA\n",
        "from sklearn.model_selection import GridSearchCV, StratifiedKFold\n",
        "\n",
        "pipe = Pipeline([('pca', PCA()),('clf', KNeighborsClassifier()),])\n",
        "\n",
        "parameters = {'pca__n_components' : [2, 5, 10],'clf__n_neighbors' : [3, 5, 7]}\n",
        "\n",
        "kf = StratifiedKFold(n_splits=5, shuffle= True, random_state= 13)\n",
        "grid_search_pca_knn = GridSearchCV(pipe, parameters, cv = kf, n_jobs= -1, verbose=1)\n",
        "grid_search_pca_knn.fit(X_train, y_train)"
      ],
      "metadata": {
        "id": "fRXzhyHpx_W0",
        "colab": {
          "base_uri": "https://localhost:8080/",
          "height": 170
        },
        "outputId": "a78a7092-40e2-41ad-a4d5-eb516ee69b08"
      },
      "execution_count": 205,
      "outputs": [
        {
          "output_type": "stream",
          "name": "stdout",
          "text": [
            "Fitting 5 folds for each of 9 candidates, totalling 45 fits\n"
          ]
        },
        {
          "output_type": "execute_result",
          "data": {
            "text/plain": [
              "GridSearchCV(cv=StratifiedKFold(n_splits=5, random_state=13, shuffle=True),\n",
              "             estimator=Pipeline(steps=[('pca', PCA()),\n",
              "                                       ('clf', KNeighborsClassifier())]),\n",
              "             n_jobs=-1,\n",
              "             param_grid={'clf__n_neighbors': [3, 5, 7],\n",
              "                         'pca__n_components': [2, 5, 10]},\n",
              "             verbose=1)"
            ],
            "text/html": [
              "<style>#sk-container-id-24 {color: black;background-color: white;}#sk-container-id-24 pre{padding: 0;}#sk-container-id-24 div.sk-toggleable {background-color: white;}#sk-container-id-24 label.sk-toggleable__label {cursor: pointer;display: block;width: 100%;margin-bottom: 0;padding: 0.3em;box-sizing: border-box;text-align: center;}#sk-container-id-24 label.sk-toggleable__label-arrow:before {content: \"▸\";float: left;margin-right: 0.25em;color: #696969;}#sk-container-id-24 label.sk-toggleable__label-arrow:hover:before {color: black;}#sk-container-id-24 div.sk-estimator:hover label.sk-toggleable__label-arrow:before {color: black;}#sk-container-id-24 div.sk-toggleable__content {max-height: 0;max-width: 0;overflow: hidden;text-align: left;background-color: #f0f8ff;}#sk-container-id-24 div.sk-toggleable__content pre {margin: 0.2em;color: black;border-radius: 0.25em;background-color: #f0f8ff;}#sk-container-id-24 input.sk-toggleable__control:checked~div.sk-toggleable__content {max-height: 200px;max-width: 100%;overflow: auto;}#sk-container-id-24 input.sk-toggleable__control:checked~label.sk-toggleable__label-arrow:before {content: \"▾\";}#sk-container-id-24 div.sk-estimator input.sk-toggleable__control:checked~label.sk-toggleable__label {background-color: #d4ebff;}#sk-container-id-24 div.sk-label input.sk-toggleable__control:checked~label.sk-toggleable__label {background-color: #d4ebff;}#sk-container-id-24 input.sk-hidden--visually {border: 0;clip: rect(1px 1px 1px 1px);clip: rect(1px, 1px, 1px, 1px);height: 1px;margin: -1px;overflow: hidden;padding: 0;position: absolute;width: 1px;}#sk-container-id-24 div.sk-estimator {font-family: monospace;background-color: #f0f8ff;border: 1px dotted black;border-radius: 0.25em;box-sizing: border-box;margin-bottom: 0.5em;}#sk-container-id-24 div.sk-estimator:hover {background-color: #d4ebff;}#sk-container-id-24 div.sk-parallel-item::after {content: \"\";width: 100%;border-bottom: 1px solid gray;flex-grow: 1;}#sk-container-id-24 div.sk-label:hover label.sk-toggleable__label {background-color: #d4ebff;}#sk-container-id-24 div.sk-serial::before {content: \"\";position: absolute;border-left: 1px solid gray;box-sizing: border-box;top: 0;bottom: 0;left: 50%;z-index: 0;}#sk-container-id-24 div.sk-serial {display: flex;flex-direction: column;align-items: center;background-color: white;padding-right: 0.2em;padding-left: 0.2em;position: relative;}#sk-container-id-24 div.sk-item {position: relative;z-index: 1;}#sk-container-id-24 div.sk-parallel {display: flex;align-items: stretch;justify-content: center;background-color: white;position: relative;}#sk-container-id-24 div.sk-item::before, #sk-container-id-24 div.sk-parallel-item::before {content: \"\";position: absolute;border-left: 1px solid gray;box-sizing: border-box;top: 0;bottom: 0;left: 50%;z-index: -1;}#sk-container-id-24 div.sk-parallel-item {display: flex;flex-direction: column;z-index: 1;position: relative;background-color: white;}#sk-container-id-24 div.sk-parallel-item:first-child::after {align-self: flex-end;width: 50%;}#sk-container-id-24 div.sk-parallel-item:last-child::after {align-self: flex-start;width: 50%;}#sk-container-id-24 div.sk-parallel-item:only-child::after {width: 0;}#sk-container-id-24 div.sk-dashed-wrapped {border: 1px dashed gray;margin: 0 0.4em 0.5em 0.4em;box-sizing: border-box;padding-bottom: 0.4em;background-color: white;}#sk-container-id-24 div.sk-label label {font-family: monospace;font-weight: bold;display: inline-block;line-height: 1.2em;}#sk-container-id-24 div.sk-label-container {text-align: center;}#sk-container-id-24 div.sk-container {/* jupyter's `normalize.less` sets `[hidden] { display: none; }` but bootstrap.min.css set `[hidden] { display: none !important; }` so we also need the `!important` here to be able to override the default hidden behavior on the sphinx rendered scikit-learn.org. See: https://github.com/scikit-learn/scikit-learn/issues/21755 */display: inline-block !important;position: relative;}#sk-container-id-24 div.sk-text-repr-fallback {display: none;}</style><div id=\"sk-container-id-24\" class=\"sk-top-container\"><div class=\"sk-text-repr-fallback\"><pre>GridSearchCV(cv=StratifiedKFold(n_splits=5, random_state=13, shuffle=True),\n",
              "             estimator=Pipeline(steps=[(&#x27;pca&#x27;, PCA()),\n",
              "                                       (&#x27;clf&#x27;, KNeighborsClassifier())]),\n",
              "             n_jobs=-1,\n",
              "             param_grid={&#x27;clf__n_neighbors&#x27;: [3, 5, 7],\n",
              "                         &#x27;pca__n_components&#x27;: [2, 5, 10]},\n",
              "             verbose=1)</pre><b>In a Jupyter environment, please rerun this cell to show the HTML representation or trust the notebook. <br />On GitHub, the HTML representation is unable to render, please try loading this page with nbviewer.org.</b></div><div class=\"sk-container\" hidden><div class=\"sk-item sk-dashed-wrapped\"><div class=\"sk-label-container\"><div class=\"sk-label sk-toggleable\"><input class=\"sk-toggleable__control sk-hidden--visually\" id=\"sk-estimator-id-80\" type=\"checkbox\" ><label for=\"sk-estimator-id-80\" class=\"sk-toggleable__label sk-toggleable__label-arrow\">GridSearchCV</label><div class=\"sk-toggleable__content\"><pre>GridSearchCV(cv=StratifiedKFold(n_splits=5, random_state=13, shuffle=True),\n",
              "             estimator=Pipeline(steps=[(&#x27;pca&#x27;, PCA()),\n",
              "                                       (&#x27;clf&#x27;, KNeighborsClassifier())]),\n",
              "             n_jobs=-1,\n",
              "             param_grid={&#x27;clf__n_neighbors&#x27;: [3, 5, 7],\n",
              "                         &#x27;pca__n_components&#x27;: [2, 5, 10]},\n",
              "             verbose=1)</pre></div></div></div><div class=\"sk-parallel\"><div class=\"sk-parallel-item\"><div class=\"sk-item\"><div class=\"sk-label-container\"><div class=\"sk-label sk-toggleable\"><input class=\"sk-toggleable__control sk-hidden--visually\" id=\"sk-estimator-id-81\" type=\"checkbox\" ><label for=\"sk-estimator-id-81\" class=\"sk-toggleable__label sk-toggleable__label-arrow\">estimator: Pipeline</label><div class=\"sk-toggleable__content\"><pre>Pipeline(steps=[(&#x27;pca&#x27;, PCA()), (&#x27;clf&#x27;, KNeighborsClassifier())])</pre></div></div></div><div class=\"sk-serial\"><div class=\"sk-item\"><div class=\"sk-serial\"><div class=\"sk-item\"><div class=\"sk-estimator sk-toggleable\"><input class=\"sk-toggleable__control sk-hidden--visually\" id=\"sk-estimator-id-82\" type=\"checkbox\" ><label for=\"sk-estimator-id-82\" class=\"sk-toggleable__label sk-toggleable__label-arrow\">PCA</label><div class=\"sk-toggleable__content\"><pre>PCA()</pre></div></div></div><div class=\"sk-item\"><div class=\"sk-estimator sk-toggleable\"><input class=\"sk-toggleable__control sk-hidden--visually\" id=\"sk-estimator-id-83\" type=\"checkbox\" ><label for=\"sk-estimator-id-83\" class=\"sk-toggleable__label sk-toggleable__label-arrow\">KNeighborsClassifier</label><div class=\"sk-toggleable__content\"><pre>KNeighborsClassifier()</pre></div></div></div></div></div></div></div></div></div></div></div></div>"
            ]
          },
          "metadata": {},
          "execution_count": 205
        }
      ]
    },
    {
      "cell_type": "code",
      "source": [
        "print('Best accuracy : %0.3f' %grid_search_pca_knn.best_score_)\n",
        "print('Best parameters:')\n",
        "best_parameters = grid_search_pca_knn.best_estimator_.get_params()\n",
        "for param_name in sorted(parameters.keys()):\n",
        "    print('\\t%s: %r'%(param_name, best_parameters[param_name]))"
      ],
      "metadata": {
        "id": "EQ9J-WOlvSlH",
        "colab": {
          "base_uri": "https://localhost:8080/"
        },
        "outputId": "58992906-a584-477d-fcb9-236f493b636f"
      },
      "execution_count": 206,
      "outputs": [
        {
          "output_type": "stream",
          "name": "stdout",
          "text": [
            "Best accuracy : 0.682\n",
            "Best parameters:\n",
            "\tclf__n_neighbors: 5\n",
            "\tpca__n_components: 10\n"
          ]
        }
      ]
    },
    {
      "cell_type": "code",
      "source": [
        "start_time = time.time()\n",
        "print(\"testing accuracy: %0.3f\" %accuracy_score(y_test, grid_search_pca_knn.best_estimator_.predict(X_test)))\n",
        "print('Time to elapse : %0.3f' %(time.time() - start_time))"
      ],
      "metadata": {
        "colab": {
          "base_uri": "https://localhost:8080/"
        },
        "id": "JzO_LHV661AF",
        "outputId": "4631ea69-d89b-4aef-93f3-7e14a216479f"
      },
      "execution_count": 207,
      "outputs": [
        {
          "output_type": "stream",
          "name": "stdout",
          "text": [
            "testing accuracy: 0.688\n",
            "Time to elapse : 0.960\n"
          ]
        }
      ]
    },
    {
      "cell_type": "markdown",
      "source": [
        "# 2. Build and run k-NN model with 5 important features"
      ],
      "metadata": {
        "id": "CJyDdWPCAQoz"
      }
    },
    {
      "cell_type": "markdown",
      "source": [
        "Extract 5 important features"
      ],
      "metadata": {
        "id": "YqmZVzGqBbLI"
      }
    },
    {
      "cell_type": "code",
      "source": [
        "df_unmon = df_unmon[['std_cumulative', 'total_outgoing_pkt_per_user', 'avg_cumulative', 'std_outgoing_burst_per_user', 'min_cumulative']]\n",
        "X = np.array(df_unmon.iloc[:, 1:])"
      ],
      "metadata": {
        "id": "g-fFpLfKA-88"
      },
      "execution_count": 213,
      "outputs": []
    },
    {
      "cell_type": "markdown",
      "source": [
        "## 2-1. Default k-NN with k=5"
      ],
      "metadata": {
        "id": "ZuFndtbAAtMR"
      }
    },
    {
      "cell_type": "code",
      "execution_count": 214,
      "metadata": {
        "colab": {
          "base_uri": "https://localhost:8080/"
        },
        "outputId": "a729a8df-cfbe-420e-c5bf-db90be4c6403",
        "id": "R9NW9vcPAtMT"
      },
      "outputs": [
        {
          "output_type": "stream",
          "name": "stdout",
          "text": [
            "Accuracy: 0.684\n",
            "Time to elapse: 0.314\n"
          ]
        }
      ],
      "source": [
        "from sklearn.model_selection import train_test_split\n",
        "from sklearn.preprocessing import StandardScaler\n",
        "from sklearn.neighbors import KNeighborsClassifier\n",
        "from sklearn.model_selection import GridSearchCV\n",
        "from sklearn.metrics import accuracy_score\n",
        "import time\n",
        "import math\n",
        "\n",
        "# split dataset\n",
        "X_train, X_test, y_train, y_test = train_test_split(X, y, test_size=0.2, random_state=42)\n",
        "\n",
        "# Normalization\n",
        "scaler = StandardScaler()\n",
        "X_train = scaler.fit_transform(X_train)\n",
        "X_test = scaler.transform(X_test)\n",
        "\n",
        "# define k-NN with k=5\n",
        "model_knn = KNeighborsClassifier(n_neighbors= 5)\n",
        "model_knn.fit(X_train, y_train)\n",
        "\n",
        "# test k-NN\n",
        "start_time = time.time()\n",
        "pred = model_knn.predict(X_test)\n",
        "print('Accuracy: %0.3f' %accuracy_score(y_test, pred))\n",
        "print('Time to elapse: %0.3f' %(time.time() - start_time))"
      ]
    },
    {
      "cell_type": "markdown",
      "source": [
        "## 2-2. k-NN with GridSearch"
      ],
      "metadata": {
        "id": "5MnHvfggAjCv"
      }
    },
    {
      "cell_type": "code",
      "execution_count": 215,
      "metadata": {
        "colab": {
          "base_uri": "https://localhost:8080/",
          "height": 117
        },
        "outputId": "b7b0fa4f-f351-4bf7-9389-c4cd226ff56b",
        "id": "zjmftVwtAjCv"
      },
      "outputs": [
        {
          "output_type": "execute_result",
          "data": {
            "text/plain": [
              "GridSearchCV(cv=5, estimator=KNeighborsClassifier(),\n",
              "             param_grid={'metric': ['euclidean', 'manhattan', 'minkowski'],\n",
              "                         'n_neighbors': [3, 5, 7]})"
            ],
            "text/html": [
              "<style>#sk-container-id-26 {color: black;background-color: white;}#sk-container-id-26 pre{padding: 0;}#sk-container-id-26 div.sk-toggleable {background-color: white;}#sk-container-id-26 label.sk-toggleable__label {cursor: pointer;display: block;width: 100%;margin-bottom: 0;padding: 0.3em;box-sizing: border-box;text-align: center;}#sk-container-id-26 label.sk-toggleable__label-arrow:before {content: \"▸\";float: left;margin-right: 0.25em;color: #696969;}#sk-container-id-26 label.sk-toggleable__label-arrow:hover:before {color: black;}#sk-container-id-26 div.sk-estimator:hover label.sk-toggleable__label-arrow:before {color: black;}#sk-container-id-26 div.sk-toggleable__content {max-height: 0;max-width: 0;overflow: hidden;text-align: left;background-color: #f0f8ff;}#sk-container-id-26 div.sk-toggleable__content pre {margin: 0.2em;color: black;border-radius: 0.25em;background-color: #f0f8ff;}#sk-container-id-26 input.sk-toggleable__control:checked~div.sk-toggleable__content {max-height: 200px;max-width: 100%;overflow: auto;}#sk-container-id-26 input.sk-toggleable__control:checked~label.sk-toggleable__label-arrow:before {content: \"▾\";}#sk-container-id-26 div.sk-estimator input.sk-toggleable__control:checked~label.sk-toggleable__label {background-color: #d4ebff;}#sk-container-id-26 div.sk-label input.sk-toggleable__control:checked~label.sk-toggleable__label {background-color: #d4ebff;}#sk-container-id-26 input.sk-hidden--visually {border: 0;clip: rect(1px 1px 1px 1px);clip: rect(1px, 1px, 1px, 1px);height: 1px;margin: -1px;overflow: hidden;padding: 0;position: absolute;width: 1px;}#sk-container-id-26 div.sk-estimator {font-family: monospace;background-color: #f0f8ff;border: 1px dotted black;border-radius: 0.25em;box-sizing: border-box;margin-bottom: 0.5em;}#sk-container-id-26 div.sk-estimator:hover {background-color: #d4ebff;}#sk-container-id-26 div.sk-parallel-item::after {content: \"\";width: 100%;border-bottom: 1px solid gray;flex-grow: 1;}#sk-container-id-26 div.sk-label:hover label.sk-toggleable__label {background-color: #d4ebff;}#sk-container-id-26 div.sk-serial::before {content: \"\";position: absolute;border-left: 1px solid gray;box-sizing: border-box;top: 0;bottom: 0;left: 50%;z-index: 0;}#sk-container-id-26 div.sk-serial {display: flex;flex-direction: column;align-items: center;background-color: white;padding-right: 0.2em;padding-left: 0.2em;position: relative;}#sk-container-id-26 div.sk-item {position: relative;z-index: 1;}#sk-container-id-26 div.sk-parallel {display: flex;align-items: stretch;justify-content: center;background-color: white;position: relative;}#sk-container-id-26 div.sk-item::before, #sk-container-id-26 div.sk-parallel-item::before {content: \"\";position: absolute;border-left: 1px solid gray;box-sizing: border-box;top: 0;bottom: 0;left: 50%;z-index: -1;}#sk-container-id-26 div.sk-parallel-item {display: flex;flex-direction: column;z-index: 1;position: relative;background-color: white;}#sk-container-id-26 div.sk-parallel-item:first-child::after {align-self: flex-end;width: 50%;}#sk-container-id-26 div.sk-parallel-item:last-child::after {align-self: flex-start;width: 50%;}#sk-container-id-26 div.sk-parallel-item:only-child::after {width: 0;}#sk-container-id-26 div.sk-dashed-wrapped {border: 1px dashed gray;margin: 0 0.4em 0.5em 0.4em;box-sizing: border-box;padding-bottom: 0.4em;background-color: white;}#sk-container-id-26 div.sk-label label {font-family: monospace;font-weight: bold;display: inline-block;line-height: 1.2em;}#sk-container-id-26 div.sk-label-container {text-align: center;}#sk-container-id-26 div.sk-container {/* jupyter's `normalize.less` sets `[hidden] { display: none; }` but bootstrap.min.css set `[hidden] { display: none !important; }` so we also need the `!important` here to be able to override the default hidden behavior on the sphinx rendered scikit-learn.org. See: https://github.com/scikit-learn/scikit-learn/issues/21755 */display: inline-block !important;position: relative;}#sk-container-id-26 div.sk-text-repr-fallback {display: none;}</style><div id=\"sk-container-id-26\" class=\"sk-top-container\"><div class=\"sk-text-repr-fallback\"><pre>GridSearchCV(cv=5, estimator=KNeighborsClassifier(),\n",
              "             param_grid={&#x27;metric&#x27;: [&#x27;euclidean&#x27;, &#x27;manhattan&#x27;, &#x27;minkowski&#x27;],\n",
              "                         &#x27;n_neighbors&#x27;: [3, 5, 7]})</pre><b>In a Jupyter environment, please rerun this cell to show the HTML representation or trust the notebook. <br />On GitHub, the HTML representation is unable to render, please try loading this page with nbviewer.org.</b></div><div class=\"sk-container\" hidden><div class=\"sk-item sk-dashed-wrapped\"><div class=\"sk-label-container\"><div class=\"sk-label sk-toggleable\"><input class=\"sk-toggleable__control sk-hidden--visually\" id=\"sk-estimator-id-87\" type=\"checkbox\" ><label for=\"sk-estimator-id-87\" class=\"sk-toggleable__label sk-toggleable__label-arrow\">GridSearchCV</label><div class=\"sk-toggleable__content\"><pre>GridSearchCV(cv=5, estimator=KNeighborsClassifier(),\n",
              "             param_grid={&#x27;metric&#x27;: [&#x27;euclidean&#x27;, &#x27;manhattan&#x27;, &#x27;minkowski&#x27;],\n",
              "                         &#x27;n_neighbors&#x27;: [3, 5, 7]})</pre></div></div></div><div class=\"sk-parallel\"><div class=\"sk-parallel-item\"><div class=\"sk-item\"><div class=\"sk-label-container\"><div class=\"sk-label sk-toggleable\"><input class=\"sk-toggleable__control sk-hidden--visually\" id=\"sk-estimator-id-88\" type=\"checkbox\" ><label for=\"sk-estimator-id-88\" class=\"sk-toggleable__label sk-toggleable__label-arrow\">estimator: KNeighborsClassifier</label><div class=\"sk-toggleable__content\"><pre>KNeighborsClassifier()</pre></div></div></div><div class=\"sk-serial\"><div class=\"sk-item\"><div class=\"sk-estimator sk-toggleable\"><input class=\"sk-toggleable__control sk-hidden--visually\" id=\"sk-estimator-id-89\" type=\"checkbox\" ><label for=\"sk-estimator-id-89\" class=\"sk-toggleable__label sk-toggleable__label-arrow\">KNeighborsClassifier</label><div class=\"sk-toggleable__content\"><pre>KNeighborsClassifier()</pre></div></div></div></div></div></div></div></div></div></div>"
            ]
          },
          "metadata": {},
          "execution_count": 215
        }
      ],
      "source": [
        "param_grid = {'n_neighbors': [3, 5, 7], 'metric' : ['euclidean', 'manhattan', 'minkowski']} # search space\n",
        "grid_search_knn = GridSearchCV(model_knn, param_grid, cv=5)  # 5-fold cross validation\n",
        "grid_search_knn.fit(X_train, y_train)"
      ]
    },
    {
      "cell_type": "code",
      "source": [
        "print('Best accuracy : %0.3f' %grid_search_knn.best_score_)\n",
        "print(\"Best parameters:\", grid_search_knn.best_params_)"
      ],
      "metadata": {
        "colab": {
          "base_uri": "https://localhost:8080/"
        },
        "outputId": "194ef458-2371-4583-aa68-85290be23f98",
        "id": "3o7_a9YIAjCw"
      },
      "execution_count": 216,
      "outputs": [
        {
          "output_type": "stream",
          "name": "stdout",
          "text": [
            "Best accuracy : 0.697\n",
            "Best parameters: {'metric': 'manhattan', 'n_neighbors': 5}\n"
          ]
        }
      ]
    },
    {
      "cell_type": "code",
      "source": [
        "print(\"testing accuracy: %0.3f\" %accuracy_score(y_test, grid_search_knn.best_estimator_.predict(X_test)))"
      ],
      "metadata": {
        "colab": {
          "base_uri": "https://localhost:8080/"
        },
        "outputId": "6c42ae64-1f0e-40ca-a939-a26611657d43",
        "id": "ffbF16WvAjCw"
      },
      "execution_count": 217,
      "outputs": [
        {
          "output_type": "stream",
          "name": "stdout",
          "text": [
            "testing accuracy: 0.700\n"
          ]
        }
      ]
    }
  ]
}