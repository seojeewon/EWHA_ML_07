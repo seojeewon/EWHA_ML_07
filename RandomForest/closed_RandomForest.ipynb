{
  "cells": [
    {
      "cell_type": "markdown",
      "source": [
        "#RandomForest Classifier"
      ],
      "metadata": {
        "id": "f-eeg5mVfUQk"
      }
    },
    {
      "cell_type": "code",
      "execution_count": 131,
      "metadata": {
        "colab": {
          "base_uri": "https://localhost:8080/"
        },
        "id": "_ckxVf5AXpPC",
        "outputId": "061bc155-7f87-49ce-ef09-6789a06ebd94"
      },
      "outputs": [
        {
          "output_type": "stream",
          "name": "stdout",
          "text": [
            "Drive already mounted at /content/drive; to attempt to forcibly remount, call drive.mount(\"/content/drive\", force_remount=True).\n"
          ]
        }
      ],
      "source": [
        "from google.colab import drive\n",
        "drive.mount('/content/drive')"
      ]
    },
    {
      "cell_type": "code",
      "execution_count": 132,
      "metadata": {
        "id": "oEI8S649UBB1"
      },
      "outputs": [],
      "source": [
        "import pandas as pd\n",
        "import numpy as np\n",
        "from sklearn.model_selection import train_test_split\n",
        "from sklearn.preprocessing import StandardScaler\n",
        "from sklearn.linear_model import LogisticRegression\n",
        "from sklearn.metrics import accuracy_score, classification_report\n",
        "from sklearn.tree import DecisionTreeClassifier\n",
        "from sklearn.ensemble import RandomForestClassifier\n",
        "from sklearn.model_selection import GridSearchCV\n",
        "\n",
        "import matplotlib.pyplot as plt"
      ]
    },
    {
      "cell_type": "code",
      "execution_count": 133,
      "metadata": {
        "id": "WO7uZn4K_Y1Z"
      },
      "outputs": [],
      "source": [
        "# CSV 파일 불러오기\n",
        "file_path = '/content/drive/MyDrive/Colab Notebooks/2023_2_ML/20232ML_data/mon.csv'\n",
        "data = pd.read_csv(file_path)"
      ]
    },
    {
      "cell_type": "code",
      "execution_count": 134,
      "metadata": {
        "id": "Z6ZHgFItNfx0"
      },
      "outputs": [],
      "source": [
        "data = data.T"
      ]
    },
    {
      "cell_type": "code",
      "execution_count": 135,
      "metadata": {
        "colab": {
          "base_uri": "https://localhost:8080/"
        },
        "id": "06uYO3FwDKN3",
        "outputId": "a3757c67-34ef-4d62-c185-f02b0718c04d"
      },
      "outputs": [
        {
          "output_type": "execute_result",
          "data": {
            "text/plain": [
              "(19000, 36)"
            ]
          },
          "metadata": {},
          "execution_count": 135
        }
      ],
      "source": [
        "# 첫 번째 행 삭제\n",
        "X = data.drop(data.index[0])  # 첫 번째 행 삭제\n",
        "X.shape"
      ]
    },
    {
      "cell_type": "code",
      "execution_count": 136,
      "metadata": {
        "colab": {
          "base_uri": "https://localhost:8080/"
        },
        "id": "Rs1SwW_dTcj-",
        "outputId": "d1d743db-ef79-4535-aafe-21443c14fca0"
      },
      "outputs": [
        {
          "output_type": "execute_result",
          "data": {
            "text/plain": [
              "(19000,)"
            ]
          },
          "metadata": {},
          "execution_count": 136
        }
      ],
      "source": [
        "# 정답 데이터 y 생성\n",
        "num_elements = 200\n",
        "num_repeats = 95\n",
        "\n",
        "y = np.repeat(np.arange(95), num_elements)\n",
        "y.shape"
      ]
    },
    {
      "cell_type": "code",
      "execution_count": 137,
      "metadata": {
        "id": "xYrOdHjfUWWr"
      },
      "outputs": [],
      "source": [
        "# 데이터 표준화 (Standard Scaling)\n",
        "scaler = StandardScaler()\n",
        "X_scaled = scaler.fit_transform(X)"
      ]
    },
    {
      "cell_type": "markdown",
      "source": [
        "# RandomForest Classifier\n",
        "\n",
        "Grid Search는 GPU 제한 + 시간 초과로 인해 RandomForest에서 이용 불가\n",
        "\n",
        "n_estimators = 300에서 가장 accuracy 높음 (300, 400, 200, 500, 100 순)\n",
        "\n",
        "min_samples_split = 2 일때 가장 accuracy 높음 (split 값 증가할 수록 acc 감소)\n",
        "\n",
        "min_samples_leaf = 1 일때 가장 accuray 높음 (leaf 값 증가할 수록 acc 감소)"
      ],
      "metadata": {
        "id": "TLTy_HwXb_ag"
      }
    },
    {
      "cell_type": "code",
      "source": [
        "# 1. RF - default : 0.78\n",
        "model = RandomForestClassifier(random_state=42)\n",
        "model.fit(X_train, y_train)\n",
        "\n",
        "# 모델 평가\n",
        "predictions = model.predict(X_test)\n",
        "accuracy = accuracy_score(y_test, predictions)\n",
        "accuracy"
      ],
      "metadata": {
        "colab": {
          "base_uri": "https://localhost:8080/"
        },
        "id": "xDd-d_iMUFjm",
        "outputId": "f18eefed-fe6c-4f60-c50d-056630be9216"
      },
      "execution_count": 140,
      "outputs": [
        {
          "output_type": "execute_result",
          "data": {
            "text/plain": [
              "0.78"
            ]
          },
          "metadata": {},
          "execution_count": 140
        }
      ]
    },
    {
      "cell_type": "code",
      "source": [
        "# 2. RF - n_ = 200:0.7852631578947369\n",
        "model = RandomForestClassifier(random_state=42, n_estimators= 200)\n",
        "model.fit(X_train, y_train)\n",
        "\n",
        "# 모델 평가\n",
        "predictions = model.predict(X_test)\n",
        "accuracy = accuracy_score(y_test, predictions)\n",
        "accuracy"
      ],
      "metadata": {
        "colab": {
          "base_uri": "https://localhost:8080/"
        },
        "id": "oO4yWdzyZBdt",
        "outputId": "0675c772-b853-40a6-f22e-288816c057c7"
      },
      "execution_count": 156,
      "outputs": [
        {
          "output_type": "execute_result",
          "data": {
            "text/plain": [
              "0.7852631578947369"
            ]
          },
          "metadata": {},
          "execution_count": 156
        }
      ]
    },
    {
      "cell_type": "code",
      "source": [
        "# 3. RF - n_ = 300: 0.7871052631578948\n",
        "model = RandomForestClassifier(random_state=42, n_estimators= 300)\n",
        "model.fit(X_train, y_train)\n",
        "\n",
        "# 모델 평가\n",
        "predictions = model.predict(X_test)\n",
        "accuracy = accuracy_score(y_test, predictions)\n",
        "accuracy"
      ],
      "metadata": {
        "colab": {
          "base_uri": "https://localhost:8080/"
        },
        "id": "j6bqOqJuWgSO",
        "outputId": "0e89f96d-43a1-44e2-dafc-e3d5513913eb"
      },
      "execution_count": 142,
      "outputs": [
        {
          "output_type": "execute_result",
          "data": {
            "text/plain": [
              "0.7871052631578948"
            ]
          },
          "metadata": {},
          "execution_count": 142
        }
      ]
    },
    {
      "cell_type": "code",
      "source": [
        "# 4. RF - n_ = 400: 0.7852631578947369\n",
        "model = RandomForestClassifier(random_state=42, n_estimators= 400)\n",
        "model.fit(X_train, y_train)\n",
        "\n",
        "# 모델 평가\n",
        "predictions = model.predict(X_test)\n",
        "accuracy = accuracy_score(y_test, predictions)\n",
        "accuracy"
      ],
      "metadata": {
        "colab": {
          "base_uri": "https://localhost:8080/"
        },
        "id": "kiW5fxJyXYQn",
        "outputId": "48d08d48-b706-4c58-f286-1fae3a2d1f89"
      },
      "execution_count": 157,
      "outputs": [
        {
          "output_type": "execute_result",
          "data": {
            "text/plain": [
              "0.7852631578947369"
            ]
          },
          "metadata": {},
          "execution_count": 157
        }
      ]
    },
    {
      "cell_type": "code",
      "source": [
        "# 5. RF - n_ = 500 : 0.7857894736842105\n",
        "model = RandomForestClassifier(random_state=42, n_estimators= 500)\n",
        "model.fit(X_train, y_train)\n",
        "\n",
        "# 모델 평가\n",
        "predictions = model.predict(X_test)\n",
        "accuracy = accuracy_score(y_test, predictions)\n",
        "accuracy"
      ],
      "metadata": {
        "colab": {
          "base_uri": "https://localhost:8080/"
        },
        "id": "LNn4vDiDWgQD",
        "outputId": "84558d53-bd91-4e99-a91e-8a9a64a37244"
      },
      "execution_count": 143,
      "outputs": [
        {
          "output_type": "execute_result",
          "data": {
            "text/plain": [
              "0.7857894736842105"
            ]
          },
          "metadata": {},
          "execution_count": 143
        }
      ]
    },
    {
      "cell_type": "code",
      "source": [
        "# 6. RF - min_samples_split = 3 : 0.7771052631578947\n",
        "model = RandomForestClassifier(random_state=42, min_samples_split = 3)\n",
        "model.fit(X_train, y_train)\n",
        "\n",
        "# 모델 평가\n",
        "predictions = model.predict(X_test)\n",
        "accuracy = accuracy_score(y_test, predictions)\n",
        "accuracy"
      ],
      "metadata": {
        "colab": {
          "base_uri": "https://localhost:8080/"
        },
        "id": "I6QKp-roWgN4",
        "outputId": "7dcd9265-c1c8-4b51-bdd1-4ad177dda55a"
      },
      "execution_count": 144,
      "outputs": [
        {
          "output_type": "execute_result",
          "data": {
            "text/plain": [
              "0.7771052631578947"
            ]
          },
          "metadata": {},
          "execution_count": 144
        }
      ]
    },
    {
      "cell_type": "code",
      "source": [
        "# 7. RF - min_samples_split = 5 : 0.7757894736842105\n",
        "model = RandomForestClassifier(random_state=42, min_samples_split = 5)\n",
        "model.fit(X_train, y_train)\n",
        "\n",
        "# 모델 평가\n",
        "predictions = model.predict(X_test)\n",
        "accuracy = accuracy_score(y_test, predictions)\n",
        "accuracy"
      ],
      "metadata": {
        "colab": {
          "base_uri": "https://localhost:8080/"
        },
        "id": "NgMPcj8IXF3_",
        "outputId": "acee3ec7-30fa-4434-a724-376a862a09f7"
      },
      "execution_count": 146,
      "outputs": [
        {
          "output_type": "execute_result",
          "data": {
            "text/plain": [
              "0.7757894736842105"
            ]
          },
          "metadata": {},
          "execution_count": 146
        }
      ]
    },
    {
      "cell_type": "code",
      "source": [
        "# 8. RF - min_samples_leaf = 2 : 0.7705263157894737\n",
        "model = RandomForestClassifier(random_state=42, min_samples_leaf = 2)\n",
        "model.fit(X_train, y_train)\n",
        "\n",
        "# 모델 평가\n",
        "predictions = model.predict(X_test)\n",
        "accuracy = accuracy_score(y_test, predictions)\n",
        "accuracy"
      ],
      "metadata": {
        "colab": {
          "base_uri": "https://localhost:8080/"
        },
        "id": "Up-o-6KeXWU7",
        "outputId": "09bc4bcf-5674-4522-c6f2-822111cfac25"
      },
      "execution_count": 148,
      "outputs": [
        {
          "output_type": "execute_result",
          "data": {
            "text/plain": [
              "0.7705263157894737"
            ]
          },
          "metadata": {},
          "execution_count": 148
        }
      ]
    },
    {
      "cell_type": "code",
      "source": [
        "# 9. RF - min_samples_leaf = 3 : 0.7652631578947369\n",
        "model = RandomForestClassifier(random_state=42, min_samples_leaf = 3)\n",
        "model.fit(X_train, y_train)\n",
        "\n",
        "# 모델 평가\n",
        "predictions = model.predict(X_test)\n",
        "accuracy = accuracy_score(y_test, predictions)\n",
        "accuracy"
      ],
      "metadata": {
        "colab": {
          "base_uri": "https://localhost:8080/"
        },
        "id": "1l9N6tA1XjaL",
        "outputId": "79a12290-e868-4ec9-ee91-5f96194ee3a7"
      },
      "execution_count": 147,
      "outputs": [
        {
          "output_type": "execute_result",
          "data": {
            "text/plain": [
              "0.7652631578947369"
            ]
          },
          "metadata": {},
          "execution_count": 147
        }
      ]
    },
    {
      "cell_type": "markdown",
      "source": [
        "# Decision Tree 로 Feature Importance 계산\n",
        "# Feature Importance 결과 상위 5, 10, 15, 20, 25, 30, 35 feature로 model\n",
        "best_parmas 인 n_estimators = 300 모델 적용\n",
        "\n",
        "25개일 때 acc 가 0.7928947368421052 로 가장 우수\n",
        "\n",
        "25 다음 30, 20, 25 10, 15, 5개 순"
      ],
      "metadata": {
        "id": "J8n_k36hdGBt"
      }
    },
    {
      "cell_type": "code",
      "source": [
        "# 특성 중요도 확인\n",
        "model = DecisionTreeClassifier(random_state=42)\n",
        "model.fit(X_scaled, y)\n",
        "\n",
        "feature_importance = model.feature_importances_\n",
        "\n",
        "# 중요도를 내림차순으로 정렬하여 시각화\n",
        "sorted_idx = feature_importance.argsort()[::-1]\n",
        "plt.figure(figsize=(10, 6))\n",
        "plt.bar(range(X.shape[1]), feature_importance[sorted_idx], align='center')\n",
        "plt.xticks(range(X.shape[1]), X.columns[sorted_idx], rotation=90)\n",
        "plt.xlabel('Feature')\n",
        "plt.ylabel('Importance')\n",
        "plt.title('Feature Importance in Decision Tree Model')\n",
        "plt.show()"
      ],
      "metadata": {
        "colab": {
          "base_uri": "https://localhost:8080/",
          "height": 568
        },
        "id": "jA6JAmrdTaa2",
        "outputId": "c437cdb3-73d7-4b24-bd37-66421046b3de"
      },
      "execution_count": 139,
      "outputs": [
        {
          "output_type": "display_data",
          "data": {
            "text/plain": [
              "<Figure size 1000x600 with 1 Axes>"
            ],
            "image/png": "[encoded data removed]"
          },
          "metadata": {}
        }
      ]
    },
    {
      "cell_type": "code",
      "source": [
        "# 가장 효과가 좋은 n_estimators = 300 에서 feature importance 뽑아서 돌려보기\n",
        "# 선택할 특성 인덱스 상위 5개 : 0.6865789473684211\n",
        "selected_features_indices = [1, 17, 0 , 16, 14]\n",
        "\n",
        "X = data.drop(data.index[0])  # 첫 번째 행 삭제\n",
        "X2 = X.iloc[:, selected_features_indices]  # 특성 데이터\n",
        "\n",
        "X2_scaled = scaler.fit_transform(X2)\n",
        "\n",
        "X2_train, X2_test, y_train, y_test = train_test_split(X2_scaled, y, test_size=0.2, random_state=42)\n",
        "model = RandomForestClassifier(random_state=42, n_estimators= 300)\n",
        "model.fit(X2_train, y_train)\n",
        "\n",
        "# 모델 평가\n",
        "predictions = model.predict(X2_test)\n",
        "accuracy = accuracy_score(y_test, predictions)\n",
        "accuracy"
      ],
      "metadata": {
        "colab": {
          "base_uri": "https://localhost:8080/"
        },
        "id": "iun1zrvrao-G",
        "outputId": "b1305c5d-7f8e-473a-87f9-e694368393c0"
      },
      "execution_count": 153,
      "outputs": [
        {
          "output_type": "execute_result",
          "data": {
            "text/plain": [
              "0.6865789473684211"
            ]
          },
          "metadata": {},
          "execution_count": 153
        }
      ]
    },
    {
      "cell_type": "code",
      "source": [
        "# 선택할 특성 인덱스 상위 10개 :0.7476315789473684\n",
        "selected_features_indices = [1, 17, 0 , 16, 14, 18, 10, 21, 13, 4, 15, 35, 3, 28, 20]\n",
        "\n",
        "X = data.drop(data.index[0])  # 첫 번째 행 삭제\n",
        "X2 = X.iloc[:, selected_features_indices]  # 특성 데이터\n",
        "\n",
        "X2_scaled = scaler.fit_transform(X2)\n",
        "\n",
        "X2_train, X2_test, y_train, y_test = train_test_split(X2_scaled, y, test_size=0.2, random_state=42)\n",
        "model = RandomForestClassifier(random_state=42, n_estimators= 300)\n",
        "model.fit(X2_train, y_train)\n",
        "\n",
        "# 모델 평가\n",
        "predictions = model.predict(X2_test)\n",
        "accuracy = accuracy_score(y_test, predictions)\n",
        "accuracy"
      ],
      "metadata": {
        "colab": {
          "base_uri": "https://localhost:8080/"
        },
        "id": "52i-t4MAa9tW",
        "outputId": "9178bf83-2d8b-424d-f7f5-f83435ee796a"
      },
      "execution_count": 155,
      "outputs": [
        {
          "output_type": "execute_result",
          "data": {
            "text/plain": [
              "0.7476315789473684"
            ]
          },
          "metadata": {},
          "execution_count": 155
        }
      ]
    },
    {
      "cell_type": "code",
      "source": [
        "# 선택할 특성 인덱스 상위 15개 : 0.7323684210526316\n",
        "selected_features_indices = [1, 17, 0 , 16, 14, 18, 10, 21, 13, 4]\n",
        "\n",
        "X = data.drop(data.index[0])  # 첫 번째 행 삭제\n",
        "X2 = X.iloc[:, selected_features_indices]  # 특성 데이터\n",
        "\n",
        "X2_scaled = scaler.fit_transform(X2)\n",
        "\n",
        "X2_train, X2_test, y_train, y_test = train_test_split(X2_scaled, y, test_size=0.2, random_state=42)\n",
        "model = RandomForestClassifier(random_state=42, n_estimators= 300)\n",
        "model.fit(X2_train, y_train)\n",
        "\n",
        "# 모델 평가\n",
        "predictions = model.predict(X2_test)\n",
        "accuracy = accuracy_score(y_test, predictions)\n",
        "accuracy"
      ],
      "metadata": {
        "colab": {
          "base_uri": "https://localhost:8080/"
        },
        "id": "hqu0DjzUa9m2",
        "outputId": "8854c76d-e79b-4305-ccd6-25625f9f7e2d"
      },
      "execution_count": 154,
      "outputs": [
        {
          "output_type": "execute_result",
          "data": {
            "text/plain": [
              "0.7323684210526316"
            ]
          },
          "metadata": {},
          "execution_count": 154
        }
      ]
    },
    {
      "cell_type": "code",
      "execution_count": 152,
      "metadata": {
        "id": "k-1kZhNqwu4L",
        "colab": {
          "base_uri": "https://localhost:8080/"
        },
        "outputId": "ff799293-d8d9-41f2-83a5-4aead68b35d8"
      },
      "outputs": [
        {
          "output_type": "execute_result",
          "data": {
            "text/plain": [
              "0.7881578947368421"
            ]
          },
          "metadata": {},
          "execution_count": 152
        }
      ],
      "source": [
        "# 선택할 특성 인덱스 상위 20개 : 0.7881578947368421\n",
        "selected_features_indices = [1, 17, 0 , 16, 14, 18, 10, 21, 13, 4, 15, 35, 3, 28, 20, 5, 7, 22, 6, 2]\n",
        "\n",
        "X = data.drop(data.index[0])  # 첫 번째 행 삭제\n",
        "X2 = X.iloc[:, selected_features_indices]  # 특성 데이터\n",
        "\n",
        "X2_scaled = scaler.fit_transform(X2)\n",
        "\n",
        "X2_train, X2_test, y_train, y_test = train_test_split(X2_scaled, y, test_size=0.2, random_state=42)\n",
        "model = RandomForestClassifier(random_state=42, n_estimators= 300)\n",
        "model.fit(X2_train, y_train)\n",
        "\n",
        "# 모델 평가\n",
        "predictions = model.predict(X2_test)\n",
        "accuracy = accuracy_score(y_test, predictions)\n",
        "accuracy"
      ]
    },
    {
      "cell_type": "code",
      "source": [
        "# 선택할 특성 인덱스 상위 25개 : 0.7928947368421052\n",
        "selected_features_indices = [1, 17, 0 , 16, 14, 18, 10, 21, 13, 4, 15, 35, 3, 28, 20, 5, 7, 22, 6, 2,  27, 26, 8, 11, 25]\n",
        "\n",
        "X = data.drop(data.index[0])  # 첫 번째 행 삭제\n",
        "X2 = X.iloc[:, selected_features_indices]  # 특성 데이터\n",
        "\n",
        "X2_scaled = scaler.fit_transform(X2)\n",
        "\n",
        "X2_train, X2_test, y_train, y_test = train_test_split(X2_scaled, y, test_size=0.2, random_state=42)\n",
        "model = RandomForestClassifier(random_state=42, n_estimators= 300)\n",
        "model.fit(X2_train, y_train)\n",
        "\n",
        "# 모델 평가\n",
        "predictions = model.predict(X2_test)\n",
        "accuracy = accuracy_score(y_test, predictions)\n",
        "accuracy"
      ],
      "metadata": {
        "colab": {
          "base_uri": "https://localhost:8080/"
        },
        "id": "Sl9CYbkJd2Rg",
        "outputId": "02288d51-61f3-49d9-e632-177033ac99dc"
      },
      "execution_count": 158,
      "outputs": [
        {
          "output_type": "execute_result",
          "data": {
            "text/plain": [
              "0.7928947368421052"
            ]
          },
          "metadata": {},
          "execution_count": 158
        }
      ]
    },
    {
      "cell_type": "code",
      "source": [
        "# 선택할 특성 인덱스 상위 30개 :0.\n",
        "selected_features_indices = [1, 17, 0 , 16, 14, 18, 10, 21, 13, 4, 15, 35, 3, 28, 20, 5, 7, 22, 6, 2,  27, 26, 8, 11, 25, 19, 23, 12, 31, 29]\n",
        "\n",
        "X = data.drop(data.index[0])  # 첫 번째 행 삭제\n",
        "X2 = X.iloc[:, selected_features_indices]  # 특성 데이터\n",
        "\n",
        "X2_scaled = scaler.fit_transform(X2)\n",
        "\n",
        "X2_train, X2_test, y_train, y_test = train_test_split(X2_scaled, y, test_size=0.2, random_state=42)\n",
        "model = RandomForestClassifier(random_state=42, n_estimators= 300)\n",
        "model.fit(X2_train, y_train)\n",
        "\n",
        "# 모델 평가\n",
        "predictions = model.predict(X2_test)\n",
        "accuracy = accuracy_score(y_test, predictions)\n",
        "accuracy"
      ],
      "metadata": {
        "id": "4hZaKNNcf7zJ",
        "outputId": "9d152920-e64d-4b49-abdf-b1ba0ace6a6b",
        "colab": {
          "base_uri": "https://localhost:8080/"
        }
      },
      "execution_count": 163,
      "outputs": [
        {
          "output_type": "execute_result",
          "data": {
            "text/plain": [
              "0.7889473684210526"
            ]
          },
          "metadata": {},
          "execution_count": 163
        }
      ]
    },
    {
      "cell_type": "code",
      "source": [
        "# 선택할 특성 인덱스 상위 35개 :0. 7863157894736842\n",
        "selected_features_indices = [1, 17, 0 , 16, 14, 18, 10, 21, 13, 4, 15, 35, 3, 28, 20, 5, 7, 22, 6, 2,  27, 26, 8, 11, 25, 19, 23, 12, 31, 29, 32, 30, 9, 33, 34]\n",
        "\n",
        "X = data.drop(data.index[0])  # 첫 번째 행 삭제\n",
        "X2 = X.iloc[:, selected_features_indices]  # 특성 데이터\n",
        "\n",
        "X2_scaled = scaler.fit_transform(X2)\n",
        "\n",
        "X2_train, X2_test, y_train, y_test = train_test_split(X2_scaled, y, test_size=0.2, random_state=42)\n",
        "model = RandomForestClassifier(random_state=42, n_estimators= 300)\n",
        "model.fit(X2_train, y_train)\n",
        "\n",
        "# 모델 평가\n",
        "predictions = model.predict(X2_test)\n",
        "accuracy = accuracy_score(y_test, predictions)\n",
        "accuracy"
      ],
      "metadata": {
        "colab": {
          "base_uri": "https://localhost:8080/"
        },
        "id": "FFGM_bYZeerp",
        "outputId": "3805305c-05b4-43ab-9b9a-e421062d901a"
      },
      "execution_count": 162,
      "outputs": [
        {
          "output_type": "execute_result",
          "data": {
            "text/plain": [
              "0.7863157894736842"
            ]
          },
          "metadata": {},
          "execution_count": 162
        }
      ]
    }
  ],
  "metadata": {
    "accelerator": "TPU",
    "colab": {
      "provenance": [],
      "toc_visible": true
    },
    "kernelspec": {
      "display_name": "Python 3",
      "name": "python3"
    },
    "language_info": {
      "name": "python"
    }
  },
  "nbformat": 4,
  "nbformat_minor": 0
}