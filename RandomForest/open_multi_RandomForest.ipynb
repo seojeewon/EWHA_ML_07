{
  "nbformat": 4,
  "nbformat_minor": 0,
  "metadata": {
    "colab": {
      "provenance": [],
      "gpuType": "T4"
    },
    "kernelspec": {
      "name": "python3",
      "display_name": "Python 3"
    },
    "language_info": {
      "name": "python"
    },
    "accelerator": "GPU"
  },
  "cells": [
    {
      "cell_type": "code",
      "source": [
        "import pandas as pd\n",
        "import numpy as np\n",
        "from sklearn.model_selection import train_test_split\n",
        "from sklearn.preprocessing import StandardScaler\n",
        "from sklearn.metrics import accuracy_score, classification_report\n",
        "from sklearn.metrics import precision_score, recall_score\n",
        "\n",
        "from sklearn.ensemble import RandomForestClassifier\n",
        "from sklearn.model_selection import GridSearchCV\n",
        "\n",
        "import matplotlib.pyplot as plt"
      ],
      "metadata": {
        "id": "oEI8S649UBB1"
      },
      "execution_count": null,
      "outputs": []
    },
    {
      "cell_type": "code",
      "execution_count": null,
      "metadata": {
        "id": "WO7uZn4K_Y1Z"
      },
      "outputs": [],
      "source": [
        "# CSV 파일 불러오기\n",
        "file_path = '/content/drive/MyDrive/Colab Notebooks/2023_2_ML/20232ML_data/unmon2.csv' # replace with your absolute path of data on your drive\n",
        "data = pd.read_csv(file_path)"
      ]
    },
    {
      "cell_type": "code",
      "source": [
        "data = data.T"
      ],
      "metadata": {
        "id": "Z6ZHgFItNfx0"
      },
      "execution_count": null,
      "outputs": []
    },
    {
      "cell_type": "code",
      "source": [
        "data.iloc[0, :]"
      ],
      "metadata": {
        "colab": {
          "base_uri": "https://localhost:8080/"
        },
        "id": "5-1PVa1gm95s",
        "outputId": "606cd58d-ec42-4c43-b88f-61a00f0594af"
      },
      "execution_count": null,
      "outputs": [
        {
          "output_type": "execute_result",
          "data": {
            "text/plain": [
              "0         total_outgoing_pkt_per_user\n",
              "1         total_incoming_pkt_per_user\n",
              "2          outgoing_pkt_frac_per_user\n",
              "3          incoming_pkt_frac_per_user\n",
              "4                 outgoing30_per_user\n",
              "5                 incoming30_per_user\n",
              "6            avg_total_burst_per_user\n",
              "7            std_total_burst_per_user\n",
              "8            max_total_burst_per_user\n",
              "9         avg_incoming_burst_per_user\n",
              "10        std_incoming_burst_per_user\n",
              "11        min_incoming_burst_per_user\n",
              "12        avg_outgoing_burst_per_user\n",
              "13        std_outgoing_burst_per_user\n",
              "14        max_outgoing_burst_per_user\n",
              "15                     avg_cumulative\n",
              "16                     std_cumulative\n",
              "17                     min_cumulative\n",
              "18                       avg_interval\n",
              "19                       std_interval\n",
              "20                       max_interval\n",
              "21             avg_pkts_in_fixed_time\n",
              "22             std_pkts_in_fixed_time\n",
              "23             min_pkts_in_fixed_time\n",
              "24             max_pkts_in_fixed_time\n",
              "25       avg_sum_intervals_continuous\n",
              "26       std_sum_intervals_continuous\n",
              "27       max_sum_intervals_continuous\n",
              "28    avg_outgoing_pkts_time_interval\n",
              "29    std_outgoing_pkts_time_interval\n",
              "30    max_outgoing_pkts_time_interval\n",
              "31    avg_incoming_pkts_time_interval\n",
              "32    std_incoming_pkts_time_interval\n",
              "33    max_incoming_pkts_time_interval\n",
              "34                  flow_act_duration\n",
              "Name: total_pkt_per_user, dtype: object"
            ]
          },
          "metadata": {},
          "execution_count": 4
        }
      ]
    },
    {
      "cell_type": "code",
      "source": [
        "# 첫 번째 행 삭제\n",
        "X = data.drop(data.index[0])  # 첫 번째 행 삭제\n",
        "\n",
        "X.shape"
      ],
      "metadata": {
        "colab": {
          "base_uri": "https://localhost:8080/"
        },
        "id": "06uYO3FwDKN3",
        "outputId": "8fc0af82-88bf-46b0-9fe9-cd36c8cdd1e5"
      },
      "execution_count": null,
      "outputs": [
        {
          "output_type": "execute_result",
          "data": {
            "text/plain": [
              "(29000, 35)"
            ]
          },
          "metadata": {},
          "execution_count": 5
        }
      ]
    },
    {
      "cell_type": "code",
      "source": [
        "# 정답 데이터 y 생성\n",
        "num_elements = 200\n",
        "num_repeats = 95\n",
        "\n",
        "y = np.repeat(np.arange(95), num_elements)\n",
        "y = np.append(y, np.full(10000, -1))  # -1을 10000번 추가\n",
        "# 데이터 확인\n",
        "#print(len(y))  # y 배열의 길이 확인\n",
        "print(y)"
      ],
      "metadata": {
        "colab": {
          "base_uri": "https://localhost:8080/"
        },
        "id": "Rs1SwW_dTcj-",
        "outputId": "72848ce3-d0ba-47e9-8b9b-d887365c4384"
      },
      "execution_count": null,
      "outputs": [
        {
          "output_type": "stream",
          "name": "stdout",
          "text": [
            "[ 0  0  0 ... -1 -1 -1]\n"
          ]
        }
      ]
    },
    {
      "cell_type": "code",
      "source": [
        "# 데이터 표준화 (Standard Scaling)\n",
        "scaler = StandardScaler()\n",
        "X_scaled = scaler.fit_transform(X)\n",
        "X_train, X_test, y_train, y_test = train_test_split(X_scaled, y, test_size=0.2, random_state=42)"
      ],
      "metadata": {
        "id": "xYrOdHjfUWWr"
      },
      "execution_count": null,
      "outputs": []
    },
    {
      "cell_type": "code",
      "source": [
        "import pandas as pd\n",
        "from sklearn.model_selection import train_test_split\n",
        "from sklearn.tree import DecisionTreeClassifier\n",
        "import matplotlib.pyplot as plt\n",
        "\n",
        "# 결정 트리 모델 초기화 및 학습\n",
        "model = DecisionTreeClassifier(random_state=42)\n",
        "model.fit(X_train, y_train)\n",
        "\n",
        "# 특성 중요도 확인\n",
        "feature_importance = model.feature_importances_\n",
        "\n",
        "# 중요도를 내림차순으로 정렬하여 시각화\n",
        "sorted_idx = feature_importance.argsort()[::-1]\n",
        "sorted_feature_importance = feature_importance[sorted_idx]\n",
        "sorted_columns = X.columns[sorted_idx]\n",
        "\n",
        "plt.figure(figsize=(10, 6))\n",
        "plt.bar(range(X.shape[1]), sorted_feature_importance, align='center')\n",
        "plt.xticks(range(X.shape[1]), sorted_columns, rotation=90)\n",
        "plt.xlabel('Feature')\n",
        "plt.ylabel('Importance')\n",
        "plt.title('Feature Importance in Decision Tree Model')\n",
        "plt.show()"
      ],
      "metadata": {
        "colab": {
          "base_uri": "https://localhost:8080/",
          "height": 554
        },
        "id": "uomYkBfFTxox",
        "outputId": "d17dadf8-dea0-4347-b7d2-93a2564dad0c"
      },
      "execution_count": null,
      "outputs": [
        {
          "output_type": "display_data",
          "data": {
            "text/plain": [
              "<Figure size 1000x600 with 1 Axes>"
            ],
            "image/png": "[encoded data removed]"
          },
          "metadata": {}
        }
      ]
    },
    {
      "cell_type": "code",
      "source": [
        "# All features\n",
        "model = RandomForestClassifier(n_estimators=300, random_state=42)\n",
        "model.fit(X_train, y_train)\n",
        "\n",
        "# 모델 평가\n",
        "predictions = model.predict(X_test)\n",
        "accuracy = accuracy_score(y_test, predictions)\n",
        "print(f'Random Forest Accuracy: {accuracy}')\n",
        "\n",
        "y_pred = model.predict(X_test)\n",
        "\n",
        "precision = precision_score(y_test, y_pred, average = \"macro\")\n",
        "recall = recall_score(y_test, y_pred, average = \"macro\")\n",
        "\n",
        "print(f'{precision} {recall}')"
      ],
      "metadata": {
        "colab": {
          "base_uri": "https://localhost:8080/"
        },
        "id": "GEvdReSov0AU",
        "outputId": "b5e91e2d-5826-41fa-c391-62844657568a"
      },
      "execution_count": null,
      "outputs": [
        {
          "output_type": "stream",
          "name": "stdout",
          "text": [
            "Random Forest Accuracy: 0.7779310344827586\n",
            "0.802029867458128 0.6831845342774243\n"
          ]
        }
      ]
    },
    {
      "cell_type": "code",
      "source": [
        "# Top 5\n",
        "selected_features_indices = [5,0,15,12,16]\n",
        "\n",
        "# 데이터 표준화 (Standard Scaling)\n",
        "scaler = StandardScaler()\n",
        "\n",
        "X = data.drop(data.index[0])  # 첫 번째 행 삭제\n",
        "X = X.iloc[:, selected_features_indices]  # 특성 데이터\n",
        "\n",
        "X_scaled = scaler.fit_transform(X)\n",
        "\n",
        "X_train, X_test, y_train, y_test = train_test_split(X_scaled, y, test_size=0.2, random_state=42)\n",
        "\n",
        "# Random Forest 모델 초기화 및 학습\n",
        "model = RandomForestClassifier(n_estimators=300, random_state=42)\n",
        "model.fit(X_train, y_train)\n",
        "\n",
        "# 모델 평가\n",
        "predictions = model.predict(X_test)\n",
        "accuracy = accuracy_score(y_test, predictions)\n",
        "print(f'Random Forest Accuracy: {accuracy}')\n",
        "\n",
        "y_pred = model.predict(X_test)\n",
        "\n",
        "precision = precision_score(y_test, y_pred, average = \"macro\")\n",
        "recall = recall_score(y_test, y_pred, average = \"macro\")\n",
        "\n",
        "print(f'{precision} {recall}')"
      ],
      "metadata": {
        "colab": {
          "base_uri": "https://localhost:8080/"
        },
        "id": "ktmgHlnD7jMl",
        "outputId": "92a2c6c1-292e-4cd1-d63a-1a447cba4064"
      },
      "execution_count": null,
      "outputs": [
        {
          "output_type": "stream",
          "name": "stdout",
          "text": [
            "Random Forest Accuracy: 0.6929310344827586\n",
            "0.6839911416385767 0.6163672600407023\n"
          ]
        }
      ]
    },
    {
      "cell_type": "code",
      "source": [
        "# Top25\n",
        "selected_features_indices = [5,0,15,12,16,13,30,27,34,17,3,6,9,20,14,1,19,2,33,21,26,25,7,10,18]\n",
        "\n",
        "# 데이터 표준화 (Standard Scaling)\n",
        "scaler = StandardScaler()\n",
        "\n",
        "X = data.drop(data.index[0])  # 첫 번째 행 삭제\n",
        "X = X.iloc[:, selected_features_indices]  # 특성 데이터\n",
        "\n",
        "X_scaled = scaler.fit_transform(X)\n",
        "\n",
        "X_train, X_test, y_train, y_test = train_test_split(X_scaled, y, test_size=0.2, random_state=42)\n",
        "\n",
        "# Random Forest 모델 초기화 및 학습\n",
        "model = RandomForestClassifier(n_estimators=300, random_state=42)\n",
        "model.fit(X_train, y_train)\n",
        "\n",
        "# 모델 평가\n",
        "predictions = model.predict(X_test)\n",
        "accuracy = accuracy_score(y_test, predictions)\n",
        "print(f'Random Forest Accuracy: {accuracy}')\n",
        "\n",
        "y_pred = model.predict(X_test)\n",
        "\n",
        "precision = precision_score(y_test, y_pred, average = \"macro\")\n",
        "recall = recall_score(y_test, y_pred, average = \"macro\")\n",
        "\n",
        "print(f'{precision} {recall}')"
      ],
      "metadata": {
        "colab": {
          "base_uri": "https://localhost:8080/"
        },
        "id": "cNWYPxnnw6a5",
        "outputId": "fd50a74f-97a2-4ac2-99b3-8b49a1feb6b4"
      },
      "execution_count": null,
      "outputs": [
        {
          "output_type": "stream",
          "name": "stdout",
          "text": [
            "Random Forest Accuracy: 0.7846551724137931\n",
            "0.8075846720158367 0.6948061570705844\n"
          ]
        }
      ]
    }
  ]
}