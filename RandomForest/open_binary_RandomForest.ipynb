{
  "nbformat": 4,
  "nbformat_minor": 0,
  "metadata": {
    "colab": {
      "provenance": [],
      "gpuType": "T4"
    },
    "kernelspec": {
      "name": "python3",
      "display_name": "Python 3"
    },
    "language_info": {
      "name": "python"
    },
    "accelerator": "GPU"
  },
  "cells": [
    {
      "cell_type": "code",
      "source": [
        "import pandas as pd\n",
        "import numpy as np\n",
        "from sklearn.model_selection import train_test_split\n",
        "from sklearn.preprocessing import StandardScaler\n",
        "from sklearn.metrics import accuracy_score, classification_report\n",
        "from sklearn.metrics import precision_score, recall_score\n",
        "\n",
        "from sklearn.ensemble import RandomForestClassifier\n",
        "from sklearn.tree import DecisionTreeClassifier\n",
        "from sklearn.model_selection import GridSearchCV\n",
        "\n",
        "import matplotlib.pyplot as plt"
      ],
      "metadata": {
        "id": "oEI8S649UBB1"
      },
      "execution_count": null,
      "outputs": []
    },
    {
      "cell_type": "code",
      "execution_count": null,
      "metadata": {
        "id": "WO7uZn4K_Y1Z"
      },
      "outputs": [],
      "source": [
        "# CSV 파일 불러오기\n",
        "file_path = '/content/drive/MyDrive/Colab Notebooks/2023_2_ML/20232ML_data/unmon.csv' # replace with your absolute path of data on your drive\n",
        "data = pd.read_csv(file_path)"
      ]
    },
    {
      "cell_type": "code",
      "source": [
        "data = data.T"
      ],
      "metadata": {
        "id": "Z6ZHgFItNfx0"
      },
      "execution_count": null,
      "outputs": []
    },
    {
      "cell_type": "code",
      "source": [
        "data.iloc[0, :]"
      ],
      "metadata": {
        "colab": {
          "base_uri": "https://localhost:8080/"
        },
        "id": "5-1PVa1gm95s",
        "outputId": "802eb17c-5f65-4639-9190-caefde23232a"
      },
      "execution_count": null,
      "outputs": [
        {
          "output_type": "execute_result",
          "data": {
            "text/plain": [
              "0                  total_pkt_per_user\n",
              "1         total_outgoing_pkt_per_user\n",
              "2         total_incoming_pkt_per_user\n",
              "3          outgoing_pkt_frac_per_user\n",
              "4          incoming_pkt_frac_per_user\n",
              "5                 outgoing30_per_user\n",
              "6                 incoming30_per_user\n",
              "7            avg_total_burst_per_user\n",
              "8            std_total_burst_per_user\n",
              "9            max_total_burst_per_user\n",
              "10        avg_incoming_burst_per_user\n",
              "11        std_incoming_burst_per_user\n",
              "12        min_incoming_burst_per_user\n",
              "13        avg_outgoing_burst_per_user\n",
              "14        std_outgoing_burst_per_user\n",
              "15        max_outgoing_burst_per_user\n",
              "16                     avg_cumulative\n",
              "17                     std_cumulative\n",
              "18                     min_cumulative\n",
              "19                       avg_interval\n",
              "20                       std_interval\n",
              "21                       max_interval\n",
              "22             avg_pkts_in_fixed_time\n",
              "23             std_pkts_in_fixed_time\n",
              "24             min_pkts_in_fixed_time\n",
              "25             max_pkts_in_fixed_time\n",
              "26       avg_sum_intervals_continuous\n",
              "27       std_sum_intervals_continuous\n",
              "28       max_sum_intervals_continuous\n",
              "29    avg_outgoing_pkts_time_interval\n",
              "30    std_outgoing_pkts_time_interval\n",
              "31    max_outgoing_pkts_time_interval\n",
              "32    avg_incoming_pkts_time_interval\n",
              "33    std_incoming_pkts_time_interval\n",
              "34    max_incoming_pkts_time_interval\n",
              "35                  flow_act_duration\n",
              "Name: Label, dtype: object"
            ]
          },
          "metadata": {},
          "execution_count": 4
        }
      ]
    },
    {
      "cell_type": "code",
      "source": [
        "# 첫 번째 행 삭제\n",
        "X = data.drop(data.index[0])  # 첫 번째 행 삭제\n",
        "\n",
        "X.shape"
      ],
      "metadata": {
        "colab": {
          "base_uri": "https://localhost:8080/"
        },
        "id": "06uYO3FwDKN3",
        "outputId": "0ea834fa-ae04-4738-aa5b-7a944e87ff5c"
      },
      "execution_count": null,
      "outputs": [
        {
          "output_type": "execute_result",
          "data": {
            "text/plain": [
              "(29000, 36)"
            ]
          },
          "metadata": {},
          "execution_count": 5
        }
      ]
    },
    {
      "cell_type": "code",
      "source": [
        "# 정답 데이터 y 생성\n",
        "y = np.full(19000,1)\n",
        "y = np.append(y, np.full(10000, -1))  # -1을 10000번 추가\n",
        "# 데이터 확인\n",
        "print(len(y))  # y 배열의 길이 확인"
      ],
      "metadata": {
        "colab": {
          "base_uri": "https://localhost:8080/"
        },
        "id": "Rs1SwW_dTcj-",
        "outputId": "270c7b73-dd46-4a0f-a741-4a1d8c92c6de"
      },
      "execution_count": null,
      "outputs": [
        {
          "output_type": "stream",
          "name": "stdout",
          "text": [
            "29000\n"
          ]
        }
      ]
    },
    {
      "cell_type": "code",
      "source": [
        "# 데이터 표준화 (Standard Scaling)\n",
        "scaler = StandardScaler()\n",
        "X_scaled = scaler.fit_transform(X)\n",
        "X_train, X_test, y_train, y_test = train_test_split(X_scaled, y, test_size=0.2, random_state=42)"
      ],
      "metadata": {
        "id": "xYrOdHjfUWWr"
      },
      "execution_count": null,
      "outputs": []
    },
    {
      "cell_type": "code",
      "source": [
        "# 결정 트리 모델 초기화 및 학습\n",
        "model = DecisionTreeClassifier(random_state=42)\n",
        "model.fit(X_train, y_train)\n",
        "\n",
        "# 특성 중요도 확인\n",
        "feature_importance = model.feature_importances_\n",
        "\n",
        "# 중요도를 내림차순으로 정렬하여 시각화\n",
        "sorted_idx = feature_importance.argsort()[::-1]\n",
        "sorted_feature_importance = feature_importance[sorted_idx]\n",
        "sorted_columns = X.columns[sorted_idx]\n",
        "\n",
        "plt.figure(figsize=(10, 6))\n",
        "plt.bar(range(X.shape[1]), sorted_feature_importance, align='center')\n",
        "plt.xticks(range(X.shape[1]), sorted_columns, rotation=90)\n",
        "plt.xlabel('Feature')\n",
        "plt.ylabel('Importance')\n",
        "plt.title('Feature Importance in Decision Tree Model')"
      ],
      "metadata": {
        "colab": {
          "base_uri": "https://localhost:8080/",
          "height": 573
        },
        "id": "uomYkBfFTxox",
        "outputId": "67585a88-38cb-4e57-89c9-cc7917cde419"
      },
      "execution_count": null,
      "outputs": [
        {
          "output_type": "execute_result",
          "data": {
            "text/plain": [
              "Text(0.5, 1.0, 'Feature Importance in Decision Tree Model')"
            ]
          },
          "metadata": {},
          "execution_count": 8
        },
        {
          "output_type": "display_data",
          "data": {
            "text/plain": [
              "<Figure size 1000x600 with 1 Axes>"
            ],
            "image/png": "[encoded data removed]"
          },
          "metadata": {}
        }
      ]
    },
    {
      "cell_type": "code",
      "source": [
        "# All features\n",
        "scaler = StandardScaler()\n",
        "X_scaled = scaler.fit_transform(X)\n",
        "X_train, X_test, y_train, y_test = train_test_split(X_scaled, y, test_size=0.2, random_state=42)\n",
        "\n",
        "model = RandomForestClassifier(n_estimators=300, random_state=42)\n",
        "model.fit(X_train, y_train)\n",
        "\n",
        "# 모델 평가\n",
        "predictions = model.predict(X_test)\n",
        "accuracy = accuracy_score(y_test, predictions)\n",
        "print(f'Random Forest Accuracy: {accuracy}')\n",
        "\n",
        "y_pred = model.predict(X_test)\n",
        "\n",
        "precision = precision_score(y_test, y_pred, average = \"macro\")\n",
        "recall = recall_score(y_test, y_pred, average = \"macro\")\n",
        "\n",
        "print(f'{precision} {recall}')"
      ],
      "metadata": {
        "colab": {
          "base_uri": "https://localhost:8080/"
        },
        "id": "Ww88xxst8dDm",
        "outputId": "fccc7528-68ac-4bf2-ceaf-1327acf3deda"
      },
      "execution_count": null,
      "outputs": [
        {
          "output_type": "stream",
          "name": "stdout",
          "text": [
            "Random Forest Accuracy: 0.9422413793103448\n",
            "0.9476849487548518 0.9235799055076355\n"
          ]
        }
      ]
    },
    {
      "cell_type": "code",
      "source": [
        "# Top5\n",
        "selected_features_indices = [5, 31, 34, 28, 35]\n",
        "\n",
        "# 데이터 표준화 (Standard Scaling)\n",
        "scaler = StandardScaler()\n",
        "\n",
        "X = data.drop(data.index[0])  # 첫 번째 행 삭제\n",
        "X= X.iloc[:, selected_features_indices]  # 특성 데이터\n",
        "X_scaled = scaler.fit_transform(X)\n",
        "\n",
        "X_train, X_test, y_train, y_test = train_test_split(X_scaled, y, test_size=0.2, random_state=42)\n",
        "\n",
        "# Random Forest 모델 초기화 및 학습\n",
        "model = RandomForestClassifier(n_estimators=300, random_state=42)\n",
        "model.fit(X_train, y_train)\n",
        "\n",
        "# 모델 평가\n",
        "predictions = model.predict(X_test)\n",
        "accuracy = accuracy_score(y_test, predictions)\n",
        "print(f'Random Forest Accuracy top 5: {accuracy}')\n",
        "\n",
        "y_pred = model.predict(X_test)\n",
        "\n",
        "precision = precision_score(y_test, y_pred)\n",
        "recall = recall_score(y_test, y_pred, average = \"macro\")\n",
        "\n",
        "print(f'{precision} {recall}')"
      ],
      "metadata": {
        "colab": {
          "base_uri": "https://localhost:8080/"
        },
        "id": "ktmgHlnD7jMl",
        "outputId": "5bdb8aba-b4e7-4470-f90f-85d23680f348"
      },
      "execution_count": null,
      "outputs": [
        {
          "output_type": "stream",
          "name": "stdout",
          "text": [
            "Random Forest Accuracy top 5: 0.9718965517241379\n",
            "0.9740932642487047 0.9664695528792995\n"
          ]
        }
      ]
    },
    {
      "cell_type": "code",
      "source": [
        "# Top25\n",
        "selected_features_indices = [5, 31, 34, 28, 35, 13, 14, 7, 1, 30, 15, 21, 16, 10, 27, 33, 11, 12, 0, 22, 8 ,6, 2, 25, 17]\n",
        "\n",
        "# 데이터 표준화 (Standard Scaling)\n",
        "scaler = StandardScaler()\n",
        "\n",
        "X = data.drop(data.index[0])  # 첫 번째 행 삭제\n",
        "X = X.iloc[:, selected_features_indices]  # 특성 데이터\n",
        "X_scaled = scaler.fit_transform(X)\n",
        "\n",
        "X_train, X_test, y_train, y_test = train_test_split(X_scaled, y, test_size=0.2, random_state=42)\n",
        "\n",
        "# Random Forest 모델 초기화 및 학습\n",
        "model = RandomForestClassifier(n_estimators=300, random_state=42)  # 예시로 트리 개수는 100으로 설정\n",
        "model.fit(X_train, y_train)\n",
        "\n",
        "# 모델 평가\n",
        "predictions = model.predict(X_test)\n",
        "accuracy = accuracy_score(y_test, predictions)\n",
        "print(f'Random Forest Accuracy top 25: {accuracy}')\n",
        "\n",
        "y_pred = model.predict(X_test)\n",
        "\n",
        "precision = precision_score(y_test, y_pred,)\n",
        "recall = recall_score(y_test, y_pred)\n",
        "\n",
        "print(f'{precision} {recall}')"
      ],
      "metadata": {
        "id": "dJPg4g8F_EyM",
        "colab": {
          "base_uri": "https://localhost:8080/"
        },
        "outputId": "5255114a-860c-40ff-c7aa-96766b7aeeaf"
      },
      "execution_count": null,
      "outputs": [
        {
          "output_type": "stream",
          "name": "stdout",
          "text": [
            "Random Forest Accuracy top 25: 0.9420689655172414\n",
            "0.9316662540232731 0.984305519225739\n"
          ]
        }
      ]
    }
  ]
}