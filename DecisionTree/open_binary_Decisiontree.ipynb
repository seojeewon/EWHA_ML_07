{
  "cells": [
    {
      "cell_type": "markdown",
      "source": [
        "#DecisionTree Classifier"
      ],
      "metadata": {
        "id": "f-eeg5mVfUQk"
      }
    },
    {
      "cell_type": "code",
      "execution_count": 2,
      "metadata": {
        "colab": {
          "base_uri": "https://localhost:8080/"
        },
        "id": "_ckxVf5AXpPC",
        "outputId": "2858ccdb-8bab-4f00-c6e7-4c3ddfb70f90"
      },
      "outputs": [
        {
          "output_type": "stream",
          "name": "stdout",
          "text": [
            "Mounted at /content/drive\n"
          ]
        }
      ],
      "source": [
        "from google.colab import drive\n",
        "drive.mount('/content/drive')"
      ]
    },
    {
      "cell_type": "code",
      "execution_count": 3,
      "metadata": {
        "id": "oEI8S649UBB1"
      },
      "outputs": [],
      "source": [
        "import pandas as pd\n",
        "import numpy as np\n",
        "from sklearn.model_selection import train_test_split\n",
        "from sklearn.preprocessing import StandardScaler\n",
        "from sklearn.linear_model import LogisticRegression\n",
        "from sklearn.metrics import accuracy_score, classification_report\n",
        "from sklearn.tree import DecisionTreeClassifier\n",
        "from sklearn.model_selection import GridSearchCV\n",
        "\n",
        "import matplotlib.pyplot as plt"
      ]
    },
    {
      "cell_type": "code",
      "execution_count": 4,
      "metadata": {
        "id": "WO7uZn4K_Y1Z"
      },
      "outputs": [],
      "source": [
        "# CSV 파일 불러오기\n",
        "file_path = '/content/drive/MyDrive/Colab Notebooks/2023_2_ML/20232ML_data/unmon.csv'\n",
        "data = pd.read_csv(file_path)"
      ]
    },
    {
      "cell_type": "code",
      "execution_count": 5,
      "metadata": {
        "id": "Z6ZHgFItNfx0"
      },
      "outputs": [],
      "source": [
        "data = data.T"
      ]
    },
    {
      "cell_type": "code",
      "execution_count": 6,
      "metadata": {
        "colab": {
          "base_uri": "https://localhost:8080/"
        },
        "id": "06uYO3FwDKN3",
        "outputId": "3ab9fb0d-4f09-47f2-e8b7-1d49674d1c02"
      },
      "outputs": [
        {
          "output_type": "execute_result",
          "data": {
            "text/plain": [
              "(29000, 36)"
            ]
          },
          "metadata": {},
          "execution_count": 6
        }
      ],
      "source": [
        "# 첫 번째 행 삭제\n",
        "X = data.drop(data.index[0])  # 첫 번째 행 삭제\n",
        "X.shape"
      ]
    },
    {
      "cell_type": "code",
      "execution_count": 7,
      "metadata": {
        "colab": {
          "base_uri": "https://localhost:8080/"
        },
        "id": "Rs1SwW_dTcj-",
        "outputId": "11386c4f-9ac6-4a14-a199-0065f1edfa7f"
      },
      "outputs": [
        {
          "output_type": "stream",
          "name": "stdout",
          "text": [
            "29000\n"
          ]
        }
      ],
      "source": [
        "# 정답 데이터 y 생성\n",
        "num_elements = 200\n",
        "num_repeats = 95\n",
        "\n",
        "y = np.full(19000, 1)\n",
        "y = np.append(y, np.full(10000, -1))  # -1을 10000번 추가\n",
        "# 데이터 확인\n",
        "print(len(y))  # y 배열의 길이 확인"
      ]
    },
    {
      "cell_type": "code",
      "execution_count": 8,
      "metadata": {
        "id": "xYrOdHjfUWWr"
      },
      "outputs": [],
      "source": [
        "# 데이터 표준화 (Standard Scaling)\n",
        "scaler = StandardScaler()\n",
        "X_scaled = scaler.fit_transform(X)\n",
        "\n",
        "X_train, X_test, y_train, y_test = train_test_split(X, y, test_size=0.2, random_state=42)"
      ]
    },
    {
      "cell_type": "markdown",
      "source": [
        "# DecisionTree Classifier\n"
      ],
      "metadata": {
        "id": "TLTy_HwXb_ag"
      }
    },
    {
      "cell_type": "code",
      "source": [
        "# 1. DT - default : 1\n",
        "model = DecisionTreeClassifier(random_state=42)\n",
        "model.fit(X_train, y_train)\n",
        "\n",
        "# 모델 평가\n",
        "predictions = model.predict(X_test)\n",
        "accuracy = accuracy_score(y_test, predictions)\n",
        "accuracy"
      ],
      "metadata": {
        "colab": {
          "base_uri": "https://localhost:8080/"
        },
        "id": "xDd-d_iMUFjm",
        "outputId": "92c6de79-5789-4e2f-b27b-d5cf66eb4613"
      },
      "execution_count": 9,
      "outputs": [
        {
          "output_type": "execute_result",
          "data": {
            "text/plain": [
              "1.0"
            ]
          },
          "metadata": {},
          "execution_count": 9
        }
      ]
    },
    {
      "cell_type": "code",
      "source": [
        "# Grid Search 로 최적의 max_depth 찾기 - None\n",
        "# Decision Tree 모델 초기화\n",
        "dt = DecisionTreeClassifier(random_state=42)\n",
        "\n",
        "# 탐색할 하이퍼파라미터 값 지정\n",
        "param_grid = {\n",
        "    'max_depth': [None, 5, 10, 15],\n",
        "}\n",
        "\n",
        "# GridSearchCV를 이용하여 탐색할 하이퍼파라미터 값과 모델 지정\n",
        "grid_search = GridSearchCV(dt, param_grid, scoring='accuracy', cv=5, n_jobs=-1)\n",
        "\n",
        "# 모델 학습\n",
        "grid_search.fit(X_train, y_train)\n",
        "\n",
        "# 최적의 하이퍼파라미터와 정확도 출력\n",
        "print(\"Best Parameters:\", grid_search.best_params_)\n",
        "print(\"Best Cross-validation Accuracy: {:.4f}\".format(grid_search.best_score_))\n",
        "\n",
        "# 테스트 데이터로 모델 평가\n",
        "best_dt = grid_search.best_estimator_\n",
        "test_accuracy = best_dt.score(X_test, y_test)\n",
        "print(\"Test set accuracy with best parameters: {:.4f}\".format(test_accuracy))\n"
      ],
      "metadata": {
        "id": "oO4yWdzyZBdt",
        "colab": {
          "base_uri": "https://localhost:8080/"
        },
        "outputId": "1e782ebb-7842-4f65-f96b-514f399aa03c"
      },
      "execution_count": 10,
      "outputs": [
        {
          "output_type": "stream",
          "name": "stdout",
          "text": [
            "Best Parameters: {'max_depth': None}\n",
            "Best Cross-validation Accuracy: 1.0000\n",
            "Test set accuracy with best parameters: 1.0000\n"
          ]
        }
      ]
    },
    {
      "cell_type": "code",
      "source": [
        "# Grid Search 로 최적의 min_samples_split 찾기\n",
        "# Decision Tree 모델 초기화\n",
        "dt = DecisionTreeClassifier(random_state=42)\n",
        "\n",
        "# 탐색할 하이퍼파라미터 값 지정\n",
        "param_grid = {\n",
        "    'min_samples_split': [2, 5, 10],\n",
        "\n",
        "}\n",
        "\n",
        "# GridSearchCV를 이용하여 탐색할 하이퍼파라미터 값과 모델 지정\n",
        "grid_search = GridSearchCV(dt, param_grid, scoring='accuracy', cv=5, n_jobs=-1)\n",
        "\n",
        "# 모델 학습\n",
        "grid_search.fit(X_train, y_train)\n",
        "\n",
        "# 최적의 하이퍼파라미터와 정확도 출력\n",
        "print(\"Best Parameters:\", grid_search.best_params_)\n",
        "print(\"Best Cross-validation Accuracy: {:.4f}\".format(grid_search.best_score_))\n",
        "\n",
        "# 테스트 데이터로 모델 평가\n",
        "best_dt = grid_search.best_estimator_\n",
        "test_accuracy = best_dt.score(X_test, y_test)\n",
        "print(\"Test set accuracy with best parameters: {:.4f}\".format(test_accuracy))\n"
      ],
      "metadata": {
        "id": "1lv2GnJmiYoX",
        "colab": {
          "base_uri": "https://localhost:8080/"
        },
        "outputId": "a61d5c47-fa57-48cc-ef1f-2f4ec78a4c46"
      },
      "execution_count": 11,
      "outputs": [
        {
          "output_type": "stream",
          "name": "stdout",
          "text": [
            "Best Parameters: {'min_samples_split': 2}\n",
            "Best Cross-validation Accuracy: 1.0000\n",
            "Test set accuracy with best parameters: 1.0000\n"
          ]
        }
      ]
    },
    {
      "cell_type": "code",
      "source": [
        "# Grid Search 로 최적의 min_samples_leaf 찾기\n",
        "# Decision Tree 모델 초기화\n",
        "dt = DecisionTreeClassifier(random_state=42)\n",
        "\n",
        "# 탐색할 하이퍼파라미터 값 지정\n",
        "param_grid = {\n",
        "    'min_samples_leaf': [1, 2, 4]\n",
        "}\n",
        "\n",
        "# GridSearchCV를 이용하여 탐색할 하이퍼파라미터 값과 모델 지정\n",
        "grid_search = GridSearchCV(dt, param_grid, scoring='accuracy', cv=5, n_jobs=-1)\n",
        "\n",
        "# 모델 학습\n",
        "grid_search.fit(X_train, y_train)\n",
        "\n",
        "# 최적의 하이퍼파라미터와 정확도 출력\n",
        "print(\"Best Parameters:\", grid_search.best_params_)\n",
        "print(\"Best Cross-validation Accuracy: {:.4f}\".format(grid_search.best_score_))\n",
        "\n",
        "# 테스트 데이터로 모델 평가\n",
        "best_dt = grid_search.best_estimator_\n",
        "test_accuracy = best_dt.score(X_test, y_test)\n",
        "print(\"Test set accuracy with best parameters: {:.4f}\".format(test_accuracy))\n"
      ],
      "metadata": {
        "id": "CYiRDmTDiYlH",
        "colab": {
          "base_uri": "https://localhost:8080/"
        },
        "outputId": "70ba4840-f07e-41b3-ece8-b5cd8ceb3613"
      },
      "execution_count": 12,
      "outputs": [
        {
          "output_type": "stream",
          "name": "stdout",
          "text": [
            "Best Parameters: {'min_samples_leaf': 1}\n",
            "Best Cross-validation Accuracy: 1.0000\n",
            "Test set accuracy with best parameters: 1.0000\n"
          ]
        }
      ]
    },
    {
      "cell_type": "code",
      "source": [
        "# Grid Search 로 최적의 min_samples_leaf 찾기\n",
        "# Decision Tree 모델 초기화\n",
        "dt = DecisionTreeClassifier(random_state=42)\n",
        "\n",
        "# 탐색할 하이퍼파라미터 값 지정\n",
        "param_grid = {\n",
        "    'max_depth': [None, 5, 10, 15],\n",
        "    'min_samples_split': [2, 5, 10],\n",
        "    'min_samples_leaf': [1, 2, 4]}\n",
        "\n",
        "# GridSearchCV를 이용하여 탐색할 하이퍼파라미터 값과 모델 지정\n",
        "grid_search = GridSearchCV(dt, param_grid, scoring='accuracy', cv=5, n_jobs=-1)\n",
        "\n",
        "# 모델 학습\n",
        "grid_search.fit(X_train, y_train)\n",
        "\n",
        "# 최적의 하이퍼파라미터와 정확도 출력\n",
        "print(\"Best Parameters:\", grid_search.best_params_)\n",
        "print(\"Best Cross-validation Accuracy: {:.4f}\".format(grid_search.best_score_))\n",
        "\n",
        "# 테스트 데이터로 모델 평가\n",
        "best_dt = grid_search.best_estimator_\n",
        "test_accuracy = best_dt.score(X_test, y_test)\n",
        "print(\"Test set accuracy with best parameters: {:.4f}\".format(test_accuracy))"
      ],
      "metadata": {
        "id": "s5KnyoRXi2R1",
        "colab": {
          "base_uri": "https://localhost:8080/"
        },
        "outputId": "f6cd8404-ddf5-422f-91a7-6358511fdfed"
      },
      "execution_count": 13,
      "outputs": [
        {
          "output_type": "stream",
          "name": "stdout",
          "text": [
            "Best Parameters: {'max_depth': None, 'min_samples_leaf': 1, 'min_samples_split': 2}\n",
            "Best Cross-validation Accuracy: 1.0000\n",
            "Test set accuracy with best parameters: 1.0000\n"
          ]
        }
      ]
    },
    {
      "cell_type": "markdown",
      "source": [
        "# Decision Tree 로 Feature Importance 계산\n",
        "# Feature Importance 결과 상위 5, 10, 15, 20, 25, 30 feature로 model"
      ],
      "metadata": {
        "id": "J8n_k36hdGBt"
      }
    },
    {
      "cell_type": "code",
      "source": [
        "# 특성 중요도 확인\n",
        "model = DecisionTreeClassifier(random_state=42)\n",
        "model.fit(X_scaled, y)\n",
        "\n",
        "feature_importance = model.feature_importances_\n",
        "\n",
        "# 중요도를 내림차순으로 정렬하여 시각화\n",
        "sorted_idx = feature_importance.argsort()[::-1]\n",
        "plt.figure(figsize=(10, 6))\n",
        "plt.bar(range(X.shape[1]), feature_importance[sorted_idx], align='center')\n",
        "plt.xticks(range(X.shape[1]), X.columns[sorted_idx], rotation=90)\n",
        "plt.xlabel('Feature')\n",
        "plt.ylabel('Importance')\n",
        "plt.title('Feature Importance in Decision Tree Model')\n",
        "plt.show()"
      ],
      "metadata": {
        "id": "jA6JAmrdTaa2",
        "colab": {
          "base_uri": "https://localhost:8080/",
          "height": 568
        },
        "outputId": "1f3456e5-9340-4b49-9d14-cd1a6302830c"
      },
      "execution_count": 14,
      "outputs": [
        {
          "output_type": "display_data",
          "data": {
            "text/plain": [
              "<Figure size 1000x600 with 1 Axes>"
            ],
            "image/png": "[encoded data removed]"
          },
          "metadata": {}
        }
      ]
    },
    {
      "cell_type": "code",
      "source": [
        "# 가장 효과가 좋은 n_estimators = 300 에서 feature importance 뽑아서 돌려보기\n",
        "# 선택할 특성 인덱스 상위 5개 : 0.6865789473684211\n",
        "selected_features_indices = [17]\n",
        "\n",
        "X = data.drop(data.index[0])  # 첫 번째 행 삭제\n",
        "X2 = X.iloc[:, selected_features_indices]  # 특성 데이터\n",
        "\n",
        "X2_scaled = scaler.fit_transform(X2)\n",
        "\n",
        "X2_train, X2_test, y_train, y_test = train_test_split(X2_scaled, y, test_size=0.2, random_state=42)\n",
        "model = DecisionTreeClassifier(random_state=42)\n",
        "model.fit(X2_train, y_train)\n",
        "\n",
        "# 모델 평가\n",
        "predictions = model.predict(X2_test)\n",
        "accuracy = accuracy_score(y_test, predictions)\n",
        "accuracy"
      ],
      "metadata": {
        "colab": {
          "base_uri": "https://localhost:8080/"
        },
        "id": "FlHmw9EknafM",
        "outputId": "72cb5d51-8887-4748-a3b8-32a7d08c2adb"
      },
      "execution_count": 21,
      "outputs": [
        {
          "output_type": "execute_result",
          "data": {
            "text/plain": [
              "1.0"
            ]
          },
          "metadata": {},
          "execution_count": 21
        }
      ]
    },
    {
      "cell_type": "code",
      "source": [
        "# 가장 효과가 좋은 n_estimators = 300 에서 feature importance 뽑아서 돌려보기\n",
        "# 선택할 특성 인덱스 상위 5개 : 0.6865789473684211\n",
        "selected_features_indices = [1, 17, 0 , 16, 14]\n",
        "\n",
        "X = data.drop(data.index[0])  # 첫 번째 행 삭제\n",
        "X2 = X.iloc[:, selected_features_indices]  # 특성 데이터\n",
        "\n",
        "X2_scaled = scaler.fit_transform(X2)\n",
        "\n",
        "X2_train, X2_test, y_train, y_test = train_test_split(X2_scaled, y, test_size=0.2, random_state=42)\n",
        "model = DecisionTreeClassifier(random_state=42)\n",
        "model.fit(X2_train, y_train)\n",
        "\n",
        "# 모델 평가\n",
        "predictions = model.predict(X2_test)\n",
        "accuracy = accuracy_score(y_test, predictions)\n",
        "accuracy"
      ],
      "metadata": {
        "id": "iun1zrvrao-G",
        "colab": {
          "base_uri": "https://localhost:8080/"
        },
        "outputId": "01d77c2a-e5a8-4c1b-ce4c-4a84d4d9de83"
      },
      "execution_count": 15,
      "outputs": [
        {
          "output_type": "execute_result",
          "data": {
            "text/plain": [
              "1.0"
            ]
          },
          "metadata": {},
          "execution_count": 15
        }
      ]
    },
    {
      "cell_type": "code",
      "source": [
        "# 선택할 특성 인덱스 상위 10개 :0.7476315789473684\n",
        "selected_features_indices = [1, 17, 0 , 16, 14, 18, 10, 21, 13, 4, 15, 35, 3, 28, 20]\n",
        "\n",
        "X = data.drop(data.index[0])  # 첫 번째 행 삭제\n",
        "X2 = X.iloc[:, selected_features_indices]  # 특성 데이터\n",
        "\n",
        "X2_scaled = scaler.fit_transform(X2)\n",
        "\n",
        "X2_train, X2_test, y_train, y_test = train_test_split(X2_scaled, y, test_size=0.2, random_state=42)\n",
        "model = DecisionTreeClassifier(random_state=42)\n",
        "model.fit(X2_train, y_train)\n",
        "\n",
        "# 모델 평가\n",
        "predictions = model.predict(X2_test)\n",
        "accuracy = accuracy_score(y_test, predictions)\n",
        "accuracy"
      ],
      "metadata": {
        "id": "52i-t4MAa9tW",
        "colab": {
          "base_uri": "https://localhost:8080/"
        },
        "outputId": "0d9306cd-b8f4-4c30-f258-525865be8bdc"
      },
      "execution_count": 16,
      "outputs": [
        {
          "output_type": "execute_result",
          "data": {
            "text/plain": [
              "1.0"
            ]
          },
          "metadata": {},
          "execution_count": 16
        }
      ]
    },
    {
      "cell_type": "code",
      "source": [
        "# 선택할 특성 인덱스 상위 15개 : 0.7323684210526316\n",
        "selected_features_indices = [1, 17, 0 , 16, 14, 18, 10, 21, 13, 4]\n",
        "\n",
        "X = data.drop(data.index[0])  # 첫 번째 행 삭제\n",
        "X2 = X.iloc[:, selected_features_indices]  # 특성 데이터\n",
        "\n",
        "X2_scaled = scaler.fit_transform(X2)\n",
        "\n",
        "X2_train, X2_test, y_train, y_test = train_test_split(X2_scaled, y, test_size=0.2, random_state=42)\n",
        "model = DecisionTreeClassifier(random_state=42)\n",
        "model.fit(X2_train, y_train)\n",
        "\n",
        "# 모델 평가\n",
        "predictions = model.predict(X2_test)\n",
        "accuracy = accuracy_score(y_test, predictions)\n",
        "accuracy"
      ],
      "metadata": {
        "id": "hqu0DjzUa9m2",
        "colab": {
          "base_uri": "https://localhost:8080/"
        },
        "outputId": "ef079b4c-3bb0-43da-f9ed-b494a5a82c9d"
      },
      "execution_count": 17,
      "outputs": [
        {
          "output_type": "execute_result",
          "data": {
            "text/plain": [
              "1.0"
            ]
          },
          "metadata": {},
          "execution_count": 17
        }
      ]
    },
    {
      "cell_type": "code",
      "execution_count": 18,
      "metadata": {
        "id": "k-1kZhNqwu4L",
        "colab": {
          "base_uri": "https://localhost:8080/"
        },
        "outputId": "d34e1951-dd1b-478a-8ffe-f6bb734fa8ba"
      },
      "outputs": [
        {
          "output_type": "execute_result",
          "data": {
            "text/plain": [
              "1.0"
            ]
          },
          "metadata": {},
          "execution_count": 18
        }
      ],
      "source": [
        "# 선택할 특성 인덱스 상위 20개 : 0.7881578947368421\n",
        "selected_features_indices = [1, 17, 0 , 16, 14, 18, 10, 21, 13, 4, 15, 35, 3, 28, 20, 5, 7, 22, 6, 2]\n",
        "\n",
        "X = data.drop(data.index[0])  # 첫 번째 행 삭제\n",
        "X2 = X.iloc[:, selected_features_indices]  # 특성 데이터\n",
        "\n",
        "X2_scaled = scaler.fit_transform(X2)\n",
        "\n",
        "X2_train, X2_test, y_train, y_test = train_test_split(X2_scaled, y, test_size=0.2, random_state=42)\n",
        "model = DecisionTreeClassifier(random_state=42)\n",
        "model.fit(X2_train, y_train)\n",
        "\n",
        "# 모델 평가\n",
        "predictions = model.predict(X2_test)\n",
        "accuracy = accuracy_score(y_test, predictions)\n",
        "accuracy"
      ]
    },
    {
      "cell_type": "code",
      "source": [
        "# 선택할 특성 인덱스 상위 25개 : 0.7928947368421052\n",
        "selected_features_indices = [1, 17, 0 , 16, 14, 18, 10, 21, 13, 4, 15, 35, 3, 28, 20, 5, 7, 22, 6, 2,  27, 26, 8, 11, 25]\n",
        "\n",
        "X = data.drop(data.index[0])  # 첫 번째 행 삭제\n",
        "X2 = X.iloc[:, selected_features_indices]  # 특성 데이터\n",
        "\n",
        "X2_scaled = scaler.fit_transform(X2)\n",
        "\n",
        "X2_train, X2_test, y_train, y_test = train_test_split(X2_scaled, y, test_size=0.2, random_state=42)\n",
        "model = DecisionTreeClassifier(random_state=42)\n",
        "model.fit(X2_train, y_train)\n",
        "\n",
        "# 모델 평가\n",
        "predictions = model.predict(X2_test)\n",
        "accuracy = accuracy_score(y_test, predictions)\n",
        "accuracy"
      ],
      "metadata": {
        "id": "Sl9CYbkJd2Rg",
        "colab": {
          "base_uri": "https://localhost:8080/"
        },
        "outputId": "3bb63089-8386-4d4d-e1c6-f768ff1c8cf4"
      },
      "execution_count": 19,
      "outputs": [
        {
          "output_type": "execute_result",
          "data": {
            "text/plain": [
              "1.0"
            ]
          },
          "metadata": {},
          "execution_count": 19
        }
      ]
    },
    {
      "cell_type": "code",
      "source": [
        "# 선택할 특성 인덱스 상위 30개 :0. 7863157894736842\n",
        "selected_features_indices = [1, 17, 0 , 16, 14, 18, 10, 21, 13, 4, 15, 35, 3, 28, 20, 5, 7, 22, 6, 2,  27, 26, 8, 11, 25, 19, 23, 12, 31, 29, 32, 30, 9, 33, 34]\n",
        "\n",
        "X = data.drop(data.index[0])  # 첫 번째 행 삭제\n",
        "X2 = X.iloc[:, selected_features_indices]  # 특성 데이터\n",
        "\n",
        "X2_scaled = scaler.fit_transform(X2)\n",
        "\n",
        "X2_train, X2_test, y_train, y_test = train_test_split(X2_scaled, y, test_size=0.2, random_state=42)\n",
        "model = DecisionTreeClassifier(random_state=42)\n",
        "model.fit(X2_train, y_train)\n",
        "\n",
        "# 모델 평가\n",
        "predictions = model.predict(X2_test)\n",
        "accuracy = accuracy_score(y_test, predictions)\n",
        "accuracy"
      ],
      "metadata": {
        "id": "FFGM_bYZeerp",
        "colab": {
          "base_uri": "https://localhost:8080/"
        },
        "outputId": "ea496efa-b6a3-4290-e1ec-765dc18f07de"
      },
      "execution_count": 20,
      "outputs": [
        {
          "output_type": "execute_result",
          "data": {
            "text/plain": [
              "1.0"
            ]
          },
          "metadata": {},
          "execution_count": 20
        }
      ]
    }
  ],
  "metadata": {
    "accelerator": "TPU",
    "colab": {
      "provenance": [],
      "toc_visible": true
    },
    "kernelspec": {
      "display_name": "Python 3",
      "name": "python3"
    },
    "language_info": {
      "name": "python"
    }
  },
  "nbformat": 4,
  "nbformat_minor": 0
}