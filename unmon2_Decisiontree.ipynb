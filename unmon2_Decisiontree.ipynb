{
  "cells": [
    {
      "cell_type": "markdown",
      "source": [
        "#DecisionTree Classifier"
      ],
      "metadata": {
        "id": "f-eeg5mVfUQk"
      }
    },
    {
      "cell_type": "code",
      "execution_count": null,
      "metadata": {
        "colab": {
          "base_uri": "https://localhost:8080/"
        },
        "id": "_ckxVf5AXpPC",
        "outputId": "07acbf67-1f4c-4310-f400-fe0921e1d8ba"
      },
      "outputs": [
        {
          "output_type": "stream",
          "name": "stdout",
          "text": [
            "Mounted at /content/drive\n"
          ]
        }
      ],
      "source": [
        "from google.colab import drive\n",
        "drive.mount('/content/drive')"
      ]
    },
    {
      "cell_type": "code",
      "execution_count": null,
      "metadata": {
        "id": "oEI8S649UBB1"
      },
      "outputs": [],
      "source": [
        "import pandas as pd\n",
        "import numpy as np\n",
        "from sklearn.model_selection import train_test_split\n",
        "from sklearn.preprocessing import StandardScaler\n",
        "from sklearn.linear_model import LogisticRegression\n",
        "from sklearn.metrics import accuracy_score, classification_report\n",
        "from sklearn.tree import DecisionTreeClassifier\n",
        "from sklearn.model_selection import GridSearchCV\n",
        "\n",
        "import matplotlib.pyplot as plt"
      ]
    },
    {
      "cell_type": "code",
      "execution_count": null,
      "metadata": {
        "id": "WO7uZn4K_Y1Z"
      },
      "outputs": [],
      "source": [
        "# CSV 파일 불러오기\n",
        "file_path = '/content/drive/MyDrive/Colab Notebooks/2023_2_ML/20232ML_data/unmon.csv'\n",
        "data = pd.read_csv(file_path)"
      ]
    },
    {
      "cell_type": "code",
      "execution_count": null,
      "metadata": {
        "id": "Z6ZHgFItNfx0"
      },
      "outputs": [],
      "source": [
        "data = data.T"
      ]
    },
    {
      "cell_type": "code",
      "execution_count": null,
      "metadata": {
        "colab": {
          "base_uri": "https://localhost:8080/"
        },
        "id": "06uYO3FwDKN3",
        "outputId": "ed290378-fb23-4160-cc18-9f798fdfc858"
      },
      "outputs": [
        {
          "output_type": "execute_result",
          "data": {
            "text/plain": [
              "(29000, 36)"
            ]
          },
          "metadata": {},
          "execution_count": 5
        }
      ],
      "source": [
        "# 첫 번째 행 삭제\n",
        "X = data.drop(data.index[0])  # 첫 번째 행 삭제\n",
        "X.shape"
      ]
    },
    {
      "cell_type": "code",
      "execution_count": null,
      "metadata": {
        "colab": {
          "base_uri": "https://localhost:8080/"
        },
        "id": "Rs1SwW_dTcj-",
        "outputId": "d0bcda50-636c-4968-f03b-6a3db5a7e8c9"
      },
      "outputs": [
        {
          "output_type": "stream",
          "name": "stdout",
          "text": [
            "29000\n"
          ]
        }
      ],
      "source": [
        "# 정답 데이터 y 생성\n",
        "num_elements = 200\n",
        "num_repeats = 95\n",
        "\n",
        "y = np.repeat(np.arange(95), num_elements)\n",
        "y = np.append(y, np.full(10000, -1))  # -1을 10000번 추가\n",
        "# 데이터 확인\n",
        "print(len(y))  # y 배열의 길이 확인"
      ]
    },
    {
      "cell_type": "code",
      "execution_count": null,
      "metadata": {
        "id": "xYrOdHjfUWWr"
      },
      "outputs": [],
      "source": [
        "# 데이터 표준화 (Standard Scaling)\n",
        "scaler = StandardScaler()\n",
        "X_scaled = scaler.fit_transform(X)\n",
        "\n",
        "X_train, X_test, y_train, y_test = train_test_split(X, y, test_size=0.2, random_state=42)"
      ]
    },
    {
      "cell_type": "markdown",
      "source": [
        "# DecisionTree Classifier\n"
      ],
      "metadata": {
        "id": "TLTy_HwXb_ag"
      }
    },
    {
      "cell_type": "code",
      "source": [
        "# 1. DT - default : 0.7410344827586207\n",
        "model = DecisionTreeClassifier(random_state=42)\n",
        "model.fit(X_train, y_train)\n",
        "\n",
        "# 모델 평가\n",
        "predictions = model.predict(X_test)\n",
        "accuracy = accuracy_score(y_test, predictions)\n",
        "accuracy"
      ],
      "metadata": {
        "colab": {
          "base_uri": "https://localhost:8080/"
        },
        "id": "xDd-d_iMUFjm",
        "outputId": "9da3c391-db8e-4658-d6a7-5cf8f695427c"
      },
      "execution_count": null,
      "outputs": [
        {
          "output_type": "execute_result",
          "data": {
            "text/plain": [
              "0.7410344827586207"
            ]
          },
          "metadata": {},
          "execution_count": 11
        }
      ]
    },
    {
      "cell_type": "code",
      "source": [
        "# Grid Search 로 최적의 max_depth 찾기 - None\n",
        "# Decision Tree 모델 초기화\n",
        "dt = DecisionTreeClassifier(random_state=42)\n",
        "\n",
        "# 탐색할 하이퍼파라미터 값 지정\n",
        "param_grid = {\n",
        "    'max_depth': [None, 5, 10, 15],\n",
        "}\n",
        "\n",
        "# GridSearchCV를 이용하여 탐색할 하이퍼파라미터 값과 모델 지정\n",
        "grid_search = GridSearchCV(dt, param_grid, scoring='accuracy', cv=5, n_jobs=-1)\n",
        "\n",
        "# 모델 학습\n",
        "grid_search.fit(X_train, y_train)\n",
        "\n",
        "# 최적의 하이퍼파라미터와 정확도 출력\n",
        "print(\"Best Parameters:\", grid_search.best_params_)\n",
        "print(\"Best Cross-validation Accuracy: {:.4f}\".format(grid_search.best_score_))\n",
        "\n",
        "# 테스트 데이터로 모델 평가\n",
        "best_dt = grid_search.best_estimator_\n",
        "test_accuracy = best_dt.score(X_test, y_test)\n",
        "print(\"Test set accuracy with best parameters: {:.4f}\".format(test_accuracy))\n"
      ],
      "metadata": {
        "colab": {
          "base_uri": "https://localhost:8080/"
        },
        "id": "oO4yWdzyZBdt",
        "outputId": "62dd2ab3-d8f5-49cf-ae63-62a6b50479ab"
      },
      "execution_count": null,
      "outputs": [
        {
          "output_type": "stream",
          "name": "stdout",
          "text": [
            "Best Parameters: {'max_depth': None}\n",
            "Best Cross-validation Accuracy: 0.7384\n",
            "Test set accuracy with best parameters: 0.7410\n"
          ]
        }
      ]
    },
    {
      "cell_type": "code",
      "source": [
        "# Grid Search 로 최적의 min_samples_split 찾기\n",
        "# Decision Tree 모델 초기화\n",
        "dt = DecisionTreeClassifier(random_state=42)\n",
        "\n",
        "# 탐색할 하이퍼파라미터 값 지정\n",
        "param_grid = {\n",
        "    'min_samples_split': [2, 5, 10],\n",
        "}\n",
        "\n",
        "# GridSearchCV를 이용하여 탐색할 하이퍼파라미터 값과 모델 지정\n",
        "grid_search = GridSearchCV(dt, param_grid, scoring='accuracy', cv=5, n_jobs=-1)\n",
        "\n",
        "# 모델 학습\n",
        "grid_search.fit(X_train, y_train)\n",
        "\n",
        "# 최적의 하이퍼파라미터와 정확도 출력\n",
        "print(\"Best Parameters:\", grid_search.best_params_)\n",
        "print(\"Best Cross-validation Accuracy: {:.4f}\".format(grid_search.best_score_))\n",
        "\n",
        "# 테스트 데이터로 모델 평가\n",
        "best_dt = grid_search.best_estimator_\n",
        "test_accuracy = best_dt.score(X_test, y_test)\n",
        "print(\"Test set accuracy with best parameters: {:.4f}\".format(test_accuracy))\n"
      ],
      "metadata": {
        "colab": {
          "base_uri": "https://localhost:8080/"
        },
        "id": "1lv2GnJmiYoX",
        "outputId": "ce2f1d44-5eed-42bc-85e9-f870eb4470b5"
      },
      "execution_count": null,
      "outputs": [
        {
          "output_type": "stream",
          "name": "stdout",
          "text": [
            "Best Parameters: {'min_samples_split': 2}\n",
            "Best Cross-validation Accuracy: 0.7384\n",
            "Test set accuracy with best parameters: 0.7410\n"
          ]
        }
      ]
    },
    {
      "cell_type": "code",
      "source": [
        "# Grid Search 로 최적의 min_samples_leaf 찾기\n",
        "# Decision Tree 모델 초기화\n",
        "dt = DecisionTreeClassifier(random_state=42)\n",
        "\n",
        "# 탐색할 하이퍼파라미터 값 지정\n",
        "param_grid = {\n",
        "    'min_samples_leaf': [1, 2, 4]\n",
        "}\n",
        "\n",
        "# GridSearchCV를 이용하여 탐색할 하이퍼파라미터 값과 모델 지정\n",
        "grid_search = GridSearchCV(dt, param_grid, scoring='accuracy', cv=5, n_jobs=-1)\n",
        "\n",
        "# 모델 학습\n",
        "grid_search.fit(X_train, y_train)\n",
        "\n",
        "# 최적의 하이퍼파라미터와 정확도 출력\n",
        "print(\"Best Parameters:\", grid_search.best_params_)\n",
        "print(\"Best Cross-validation Accuracy: {:.4f}\".format(grid_search.best_score_))\n",
        "\n",
        "# 테스트 데이터로 모델 평가\n",
        "best_dt = grid_search.best_estimator_\n",
        "test_accuracy = best_dt.score(X_test, y_test)\n",
        "print(\"Test set accuracy with best parameters: {:.4f}\".format(test_accuracy))\n"
      ],
      "metadata": {
        "colab": {
          "base_uri": "https://localhost:8080/"
        },
        "id": "CYiRDmTDiYlH",
        "outputId": "cc56cbce-9fca-4a20-d88c-35ba436e1f5e"
      },
      "execution_count": null,
      "outputs": [
        {
          "output_type": "stream",
          "name": "stdout",
          "text": [
            "Best Parameters: {'min_samples_leaf': 1}\n",
            "Best Cross-validation Accuracy: 0.7384\n",
            "Test set accuracy with best parameters: 0.7410\n"
          ]
        }
      ]
    },
    {
      "cell_type": "code",
      "source": [
        "# Grid Search 로 최적의 min_samples_leaf 찾기\n",
        "# Decision Tree 모델 초기화\n",
        "dt = DecisionTreeClassifier(random_state=42)\n",
        "\n",
        "# 탐색할 하이퍼파라미터 값 지정\n",
        "param_grid = {\n",
        "    'max_depth': [None, 5, 10, 15],\n",
        "    'min_samples_split': [2, 5, 10],\n",
        "    'min_samples_leaf': [1, 2, 4]}\n",
        "\n",
        "# GridSearchCV를 이용하여 탐색할 하이퍼파라미터 값과 모델 지정\n",
        "grid_search = GridSearchCV(dt, param_grid, scoring='accuracy', cv=5, n_jobs=-1)\n",
        "\n",
        "# 모델 학습\n",
        "grid_search.fit(X_train, y_train)\n",
        "\n",
        "# 최적의 하이퍼파라미터와 정확도 출력\n",
        "print(\"Best Parameters:\", grid_search.best_params_)\n",
        "print(\"Best Cross-validation Accuracy: {:.4f}\".format(grid_search.best_score_))\n",
        "\n",
        "# 테스트 데이터로 모델 평가\n",
        "best_dt = grid_search.best_estimator_\n",
        "test_accuracy = best_dt.score(X_test, y_test)\n",
        "print(\"Test set accuracy with best parameters: {:.4f}\".format(test_accuracy))"
      ],
      "metadata": {
        "id": "s5KnyoRXi2R1",
        "colab": {
          "base_uri": "https://localhost:8080/"
        },
        "outputId": "a67defb0-1f75-4c2e-eb41-d9b56a21fe6e"
      },
      "execution_count": null,
      "outputs": [
        {
          "output_type": "stream",
          "name": "stdout",
          "text": [
            "Best Parameters: {'max_depth': None, 'min_samples_leaf': 1, 'min_samples_split': 2}\n",
            "Best Cross-validation Accuracy: 0.7384\n",
            "Test set accuracy with best parameters: 0.7410\n"
          ]
        }
      ]
    },
    {
      "cell_type": "markdown",
      "source": [
        "# Decision Tree 로 Feature Importance 계산\n",
        "# Feature Importance 결과 상위 5, 10, 15, 20, 25, 30 feature로 model\n",
        "\n",
        "15 25 20 30 10 5 개 순"
      ],
      "metadata": {
        "id": "J8n_k36hdGBt"
      }
    },
    {
      "cell_type": "code",
      "source": [
        "# 특성 중요도 확인\n",
        "model = DecisionTreeClassifier(random_state=42)\n",
        "model.fit(X_scaled, y)\n",
        "\n",
        "feature_importance = model.feature_importances_\n",
        "\n",
        "# 중요도를 내림차순으로 정렬하여 시각화\n",
        "sorted_idx = feature_importance.argsort()[::-1]\n",
        "plt.figure(figsize=(10, 6))\n",
        "plt.bar(range(X.shape[1]), feature_importance[sorted_idx], align='center')\n",
        "plt.xticks(range(X.shape[1]), X.columns[sorted_idx], rotation=90)\n",
        "plt.xlabel('Feature')\n",
        "plt.ylabel('Importance')\n",
        "plt.title('Feature Importance in Decision Tree Model')\n",
        "plt.show()"
      ],
      "metadata": {
        "colab": {
          "base_uri": "https://localhost:8080/",
          "height": 568
        },
        "id": "jA6JAmrdTaa2",
        "outputId": "d9e33054-4cde-4e12-fbe0-587039e17fdc"
      },
      "execution_count": null,
      "outputs": [
        {
          "output_type": "display_data",
          "data": {
            "text/plain": [
              "<Figure size 1000x600 with 1 Axes>"
            ],
            "image/png": "[encoded data removed]"
          },
          "metadata": {}
        }
      ]
    },
    {
      "cell_type": "code",
      "source": [
        "# 가장 효과가 좋은 n_estimators = 300 에서 feature importance 뽑아서 돌려보기\n",
        "# 선택할 특성 인덱스 상위 5개 : 0.7201724137931035\n",
        "selected_features_indices = [1, 17, 0 , 16, 14]\n",
        "\n",
        "X = data.drop(data.index[0])  # 첫 번째 행 삭제\n",
        "X2 = X.iloc[:, selected_features_indices]  # 특성 데이터\n",
        "\n",
        "X2_scaled = scaler.fit_transform(X2)\n",
        "\n",
        "X2_train, X2_test, y_train, y_test = train_test_split(X2_scaled, y, test_size=0.2, random_state=42)\n",
        "model = DecisionTreeClassifier(random_state=42)\n",
        "model.fit(X2_train, y_train)\n",
        "\n",
        "# 모델 평가\n",
        "predictions = model.predict(X2_test)\n",
        "accuracy = accuracy_score(y_test, predictions)\n",
        "accuracy"
      ],
      "metadata": {
        "colab": {
          "base_uri": "https://localhost:8080/"
        },
        "id": "iun1zrvrao-G",
        "outputId": "35eee119-1738-45f5-efa5-b2e087353480"
      },
      "execution_count": null,
      "outputs": [
        {
          "output_type": "execute_result",
          "data": {
            "text/plain": [
              "0.7201724137931035"
            ]
          },
          "metadata": {},
          "execution_count": 17
        }
      ]
    },
    {
      "cell_type": "code",
      "source": [
        "# 선택할 특성 인덱스 상위 10개 : 0.738103448275862\n",
        "\n",
        "selected_features_indices = [1, 17, 0 , 16, 14, 18, 10, 21, 13, 4]\n",
        "\n",
        "X = data.drop(data.index[0])  # 첫 번째 행 삭제\n",
        "X2 = X.iloc[:, selected_features_indices]  # 특성 데이터\n",
        "\n",
        "X2_scaled = scaler.fit_transform(X2)\n",
        "\n",
        "X2_train, X2_test, y_train, y_test = train_test_split(X2_scaled, y, test_size=0.2, random_state=42)\n",
        "model = DecisionTreeClassifier(random_state=42)\n",
        "model.fit(X2_train, y_train)\n",
        "\n",
        "# 모델 평가\n",
        "predictions = model.predict(X2_test)\n",
        "accuracy = accuracy_score(y_test, predictions)\n",
        "accuracy"
      ],
      "metadata": {
        "colab": {
          "base_uri": "https://localhost:8080/"
        },
        "id": "hqu0DjzUa9m2",
        "outputId": "7c2ce1bb-67a2-45dc-d5df-00aa128750a9"
      },
      "execution_count": null,
      "outputs": [
        {
          "output_type": "execute_result",
          "data": {
            "text/plain": [
              "0.738103448275862"
            ]
          },
          "metadata": {},
          "execution_count": 19
        }
      ]
    },
    {
      "cell_type": "code",
      "source": [
        "# 선택할 특성 인덱스 상위 15개 : 0.7593103448275862\n",
        "\n",
        "selected_features_indices = [1, 17, 0 , 16, 14, 18, 10, 21, 13, 4, 5 ,15, 35, 28, 3]\n",
        "\n",
        "X = data.drop(data.index[0])  # 첫 번째 행 삭제\n",
        "X2 = X.iloc[:, selected_features_indices]  # 특성 데이터\n",
        "\n",
        "X2_scaled = scaler.fit_transform(X2)\n",
        "\n",
        "X2_train, X2_test, y_train, y_test = train_test_split(X2_scaled, y, test_size=0.2, random_state=42)\n",
        "model = DecisionTreeClassifier(random_state=42)\n",
        "model.fit(X2_train, y_train)\n",
        "\n",
        "# 모델 평가\n",
        "predictions = model.predict(X2_test)\n",
        "accuracy = accuracy_score(y_test, predictions)\n",
        "accuracy"
      ],
      "metadata": {
        "colab": {
          "base_uri": "https://localhost:8080/"
        },
        "id": "52i-t4MAa9tW",
        "outputId": "e4578496-d962-430d-fe72-905d6b5978c6"
      },
      "execution_count": 23,
      "outputs": [
        {
          "output_type": "execute_result",
          "data": {
            "text/plain": [
              "0.7593103448275862"
            ]
          },
          "metadata": {},
          "execution_count": 23
        }
      ]
    },
    {
      "cell_type": "code",
      "execution_count": 24,
      "metadata": {
        "id": "k-1kZhNqwu4L",
        "colab": {
          "base_uri": "https://localhost:8080/"
        },
        "outputId": "8b9548a4-1ac2-4cdc-f222-e29ec675123c"
      },
      "outputs": [
        {
          "output_type": "execute_result",
          "data": {
            "text/plain": [
              "0.7527586206896552"
            ]
          },
          "metadata": {},
          "execution_count": 24
        }
      ],
      "source": [
        "# 선택할 특성 인덱스 상위 20개 : 0.7527586206896552\n",
        "selected_features_indices = [1, 17, 0 , 16, 14, 18, 10, 21, 13, 4,  5 ,15, 35, 28, 3, 20, 7, 22, 26, 27]\n",
        "\n",
        "X = data.drop(data.index[0])  # 첫 번째 행 삭제\n",
        "X2 = X.iloc[:, selected_features_indices]  # 특성 데이터\n",
        "\n",
        "X2_scaled = scaler.fit_transform(X2)\n",
        "\n",
        "X2_train, X2_test, y_train, y_test = train_test_split(X2_scaled, y, test_size=0.2, random_state=42)\n",
        "model = DecisionTreeClassifier(random_state=42)\n",
        "model.fit(X2_train, y_train)\n",
        "\n",
        "# 모델 평가\n",
        "predictions = model.predict(X2_test)\n",
        "accuracy = accuracy_score(y_test, predictions)\n",
        "accuracy"
      ]
    },
    {
      "cell_type": "code",
      "source": [
        "# 선택할 특성 인덱스 상위 25개 : 0.7581034482758621\n",
        "\n",
        "selected_features_indices = [1, 17, 0 , 16, 14, 18, 10, 21, 13, 4, 5 ,15, 35, 28, 3, 20, 7, 22, 26, 27, 6, 2, 11, 8, 23 ]\n",
        "\n",
        "X = data.drop(data.index[0])  # 첫 번째 행 삭제\n",
        "X2 = X.iloc[:, selected_features_indices]  # 특성 데이터\n",
        "\n",
        "X2_scaled = scaler.fit_transform(X2)\n",
        "\n",
        "X2_train, X2_test, y_train, y_test = train_test_split(X2_scaled, y, test_size=0.2, random_state=42)\n",
        "model = DecisionTreeClassifier(random_state=42)\n",
        "model.fit(X2_train, y_train)\n",
        "\n",
        "# 모델 평가\n",
        "predictions = model.predict(X2_test)\n",
        "accuracy = accuracy_score(y_test, predictions)\n",
        "accuracy"
      ],
      "metadata": {
        "colab": {
          "base_uri": "https://localhost:8080/"
        },
        "id": "Sl9CYbkJd2Rg",
        "outputId": "5a0f999a-91f2-4d3a-a75f-6b5302e881ed"
      },
      "execution_count": 25,
      "outputs": [
        {
          "output_type": "execute_result",
          "data": {
            "text/plain": [
              "0.7581034482758621"
            ]
          },
          "metadata": {},
          "execution_count": 25
        }
      ]
    },
    {
      "cell_type": "code",
      "source": [
        "# 선택할 특성 인덱스 상위 30개 : 0.7493103448275862\n",
        "\n",
        "selected_features_indices = [1, 17, 0 , 16, 14, 18, 10, 21, 13, 4, 5 ,15, 35, 28, 3, 20, 7, 22, 26, 27, 6, 2, 11, 8, 23, 19, 31, 25, 12, 32 ]\n",
        "\n",
        "X = data.drop(data.index[0])  # 첫 번째 행 삭제\n",
        "X2 = X.iloc[:, selected_features_indices]  # 특성 데이터\n",
        "\n",
        "X2_scaled = scaler.fit_transform(X2)\n",
        "\n",
        "X2_train, X2_test, y_train, y_test = train_test_split(X2_scaled, y, test_size=0.2, random_state=42)\n",
        "model = DecisionTreeClassifier(random_state=42)\n",
        "model.fit(X2_train, y_train)\n",
        "\n",
        "# 모델 평가\n",
        "predictions = model.predict(X2_test)\n",
        "accuracy = accuracy_score(y_test, predictions)\n",
        "accuracy"
      ],
      "metadata": {
        "colab": {
          "base_uri": "https://localhost:8080/"
        },
        "id": "FFGM_bYZeerp",
        "outputId": "24183ed0-795c-4a76-f5c2-155d516e0e63"
      },
      "execution_count": 26,
      "outputs": [
        {
          "output_type": "execute_result",
          "data": {
            "text/plain": [
              "0.7493103448275862"
            ]
          },
          "metadata": {},
          "execution_count": 26
        }
      ]
    }
  ],
  "metadata": {
    "accelerator": "TPU",
    "colab": {
      "provenance": [],
      "toc_visible": true
    },
    "kernelspec": {
      "display_name": "Python 3",
      "name": "python3"
    },
    "language_info": {
      "name": "python"
    }
  },
  "nbformat": 4,
  "nbformat_minor": 0
}